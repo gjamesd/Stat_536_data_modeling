{
 "cells": [
  {
   "cell_type": "markdown",
   "metadata": {},
   "source": [
    "### James Griffin \n",
    "#### Irrigation  EDA \n",
    "#### Stat 536"
   ]
  },
  {
   "cell_type": "markdown",
   "metadata": {},
   "source": [
    "IRRIGATED AGRICULTURE\n",
    "\n",
    "Irrigation has been developed to allow stable, high yield agriculture and avoid the effects of drought. However, water scarcity in many regions of the US is a problem due to declining ground- water levels, increasing competition for water by municipal and industrial users, and increasing frequency and severity of drought. In a water-limited setting, the most promising approach toward a sustainable and cooperative management of water resources is to improve agricultural water productivity. That is, produce more crop for every drop of water. -- increase the marginal benefit of water in terms of prodution\n",
    "\n",
    "The crop water stress index (CWSI) is a widely used indicator that provides an estimate of the crop water status. The CWSI is measured using widely available surface temperature thermometers (e.g. remote sensing devices). CWSI values near 1 indicate a high stress environment for the crop wherein water needs to be added. Likewise, CWSI near 0 indicate that a crop is well hydrated. By measuring CWSI across a crop field, for example, farmers are able to know when their crops require watering and, hence, can better manage their water resources by not adding water until necessary.\n",
    "\n",
    "While CWSI is useful for knowing when to apply water, it does not indicate how much water to add. Knowing how much water to add requires knowledge of the soil water content (SWC; the amount of water present in the soil). Measuring SWC, in contrast to CWSI, is expensive. However, if a unique relationship could be established between CWSI and SWC then CWSI could be used to understand SWC and, subsequently, manage the amount of water used by the farmer. Specifically, farmers want to know how much water to add at given levels of CWSI.\n",
    "For this analysis, I wish you to answer the following questions:\n",
    "\n",
    "1. What is the predictive capability of CWSI in predicting SWC?\n",
    "2. Given a CWSI measurement of 0.5, approximately how much water needs to be added to bring the SWC up to full capacity (29)?"
   ]
  },
  {
   "cell_type": "code",
   "execution_count": 55,
   "metadata": {},
   "outputs": [],
   "source": [
    "#importing \n",
    "import pandas as pd\n",
    "import numpy as np \n",
    "import matplotlib.pyplot as plt \n",
    "import seaborn as sns \n",
    "from sklearn.model_selection import train_test_split\n",
    "from sklearn.model_selection import RandomizedSearchCV\n",
    "from sklearn.metrics import mean_absolute_error\n",
    "from sklearn.metrics import mean_squared_error\n",
    "import xgboost as xgb\n",
    "from sklearn.ensemble import RandomForestRegressor\n",
    "import warnings; warnings.simplefilter('ignore')"
   ]
  },
  {
   "cell_type": "code",
   "execution_count": 2,
   "metadata": {},
   "outputs": [
    {
     "data": {
      "text/html": [
       "<div>\n",
       "<style scoped>\n",
       "    .dataframe tbody tr th:only-of-type {\n",
       "        vertical-align: middle;\n",
       "    }\n",
       "\n",
       "    .dataframe tbody tr th {\n",
       "        vertical-align: top;\n",
       "    }\n",
       "\n",
       "    .dataframe thead th {\n",
       "        text-align: right;\n",
       "    }\n",
       "</style>\n",
       "<table border=\"1\" class=\"dataframe\">\n",
       "  <thead>\n",
       "    <tr style=\"text-align: right;\">\n",
       "      <th></th>\n",
       "      <th>CWSI</th>\n",
       "      <th>SWC</th>\n",
       "    </tr>\n",
       "  </thead>\n",
       "  <tbody>\n",
       "    <tr>\n",
       "      <th>0</th>\n",
       "      <td>0.020</td>\n",
       "      <td>28.77</td>\n",
       "    </tr>\n",
       "    <tr>\n",
       "      <th>1</th>\n",
       "      <td>0.044</td>\n",
       "      <td>28.34</td>\n",
       "    </tr>\n",
       "    <tr>\n",
       "      <th>2</th>\n",
       "      <td>0.056</td>\n",
       "      <td>28.16</td>\n",
       "    </tr>\n",
       "    <tr>\n",
       "      <th>3</th>\n",
       "      <td>0.050</td>\n",
       "      <td>27.61</td>\n",
       "    </tr>\n",
       "    <tr>\n",
       "      <th>4</th>\n",
       "      <td>0.077</td>\n",
       "      <td>27.23</td>\n",
       "    </tr>\n",
       "  </tbody>\n",
       "</table>\n",
       "</div>"
      ],
      "text/plain": [
       "    CWSI    SWC\n",
       "0  0.020  28.77\n",
       "1  0.044  28.34\n",
       "2  0.056  28.16\n",
       "3  0.050  27.61\n",
       "4  0.077  27.23"
      ]
     },
     "execution_count": 2,
     "metadata": {},
     "output_type": "execute_result"
    }
   ],
   "source": [
    "data = pd.read_csv('../data/irrigation_data.csv')\n",
    "data = data.drop(columns = ['Unnamed: 0'])\n",
    "data.head()"
   ]
  },
  {
   "cell_type": "markdown",
   "metadata": {},
   "source": [
    "Ok so this presents a couple of hard challenges, the length of the entire data set 44, so we only have 44 observations, which is  not a lot to train with, and from class, Dr Heaton said that this data is also non linear. And we only have 1 feature and the outcome, so peanalized regression doesn't do us a whole lot, clustering doesn't do anything, I'm trying to think of how to answer the first question, of how well does CWSI predict SWC. \n",
    "\n",
    "Lets visualize the data a bit "
   ]
  },
  {
   "cell_type": "code",
   "execution_count": 3,
   "metadata": {},
   "outputs": [
    {
     "data": {
      "image/png": "[encoded data removed]",
      "text/plain": [
       "<Figure size 432x288 with 1 Axes>"
      ]
     },
     "metadata": {
      "needs_background": "light"
     },
     "output_type": "display_data"
    }
   ],
   "source": [
    "plt.title(\"Histogram of CWSI\")\n",
    "plt.hist(data.CWSI)\n",
    "plt.xlabel(\"CWSI\")\n",
    "plt.ylabel(\"Count\")\n",
    "plt.show()"
   ]
  },
  {
   "cell_type": "markdown",
   "metadata": {},
   "source": [
    "another challenge is that is between (0,1) so the varience in CWSI is really low"
   ]
  },
  {
   "cell_type": "code",
   "execution_count": 4,
   "metadata": {},
   "outputs": [
    {
     "data": {
      "image/png": "[encoded data removed]",
      "text/plain": [
       "<Figure size 432x288 with 1 Axes>"
      ]
     },
     "metadata": {
      "needs_background": "light"
     },
     "output_type": "display_data"
    }
   ],
   "source": [
    "plt.title(\"Histogram of SWC\")\n",
    "plt.hist(data.SWC)\n",
    "plt.xlabel(\"SWC\")\n",
    "plt.ylabel(\"Count\")\n",
    "plt.show()"
   ]
  },
  {
   "cell_type": "code",
   "execution_count": 5,
   "metadata": {},
   "outputs": [
    {
     "data": {
      "image/png": "[encoded data removed]",
      "text/plain": [
       "<Figure size 432x288 with 1 Axes>"
      ]
     },
     "metadata": {
      "needs_background": "light"
     },
     "output_type": "display_data"
    }
   ],
   "source": [
    "plt.scatter(x = data.CWSI, y = data.SWC)\n",
    "plt.xlabel(\"CWSI\")\n",
    "plt.ylabel(\"SWC\")\n",
    "plt.title(\"scatter plot\")\n",
    "plt.show()"
   ]
  },
  {
   "cell_type": "code",
   "execution_count": 6,
   "metadata": {},
   "outputs": [],
   "source": [
    "# ok that is actually not as bad as I thought, that's not super non linear, I mean there's definently a\n",
    "#shape there so while it might not work linearly, it could work in some other way, I think I'll try to \n",
    "# a simple random forest, although I have lots of caviats as  to  why this  probably wont work  super  well\n",
    "#but ok here  we go "
   ]
  },
  {
   "cell_type": "code",
   "execution_count": 58,
   "metadata": {},
   "outputs": [],
   "source": [
    "def trendline(xd, yd, order=1, c='r', alpha=1, Rval=False):\n",
    "    \"\"\"Make a line of best fit\"\"\"\n",
    "\n",
    "    #Calculate trendline\n",
    "    coeffs = np.polyfit(xd, yd, order)\n",
    "\n",
    "    intercept = coeffs[-1]\n",
    "    slope = coeffs[-2]\n",
    "    power = coeffs[0] if order == 2 else 0\n",
    "\n",
    "    minxd = np.min(xd)\n",
    "    maxxd = np.max(xd)\n",
    "\n",
    "    xl = np.array([minxd, maxxd])\n",
    "    yl = power * xl ** 2 + slope * xl + intercept\n",
    "\n",
    "    #Plot trendline\n",
    "    plt.plot(xl, yl, c, alpha=alpha)\n",
    "\n",
    "    #Calculate R Squared\n",
    "    p = np.poly1d(coeffs)\n",
    "\n",
    "    ybar = np.sum(yd) / len(yd)\n",
    "    ssreg = np.sum((p(xd) - ybar) ** 2)\n",
    "    sstot = np.sum((yd - ybar) ** 2)\n",
    "    Rsqr = ssreg / sstot\n",
    "\n",
    "    if not Rval:\n",
    "        #Plot R^2 value\n",
    "        plt.text(0.8 * maxxd + 0.2 * minxd, 0.8 * np.max(yd) + 0.2 * np.min(yd),\n",
    "                 '$R^2 = %0.2f$' % Rsqr)\n",
    "    else:\n",
    "        #Return the R^2 value:\n",
    "        return Rsqr\n",
    "\n",
    "\n",
    "def train_predict(df):\n",
    "    target = df[\"SWC\"]\n",
    "    #target = norm['total compensation']\n",
    "    X = df['CWSI']\n",
    "    \n",
    "    #splitting into train_test_split\n",
    "    X_train, X_test, y_train, y_test = train_test_split(X, target, test_size=0.25, \n",
    "                                                    random_state=17)\n",
    "    print(X_train.shape)\n",
    "    X_train = np.array(X_train).reshape(-1,1)\n",
    "    print(len(y_train))\n",
    "    xclass = xgb.XGBRegressor()\n",
    "    rf2 = RandomForestRegressor()\n",
    "    '''  \n",
    "    parameters = {\n",
    "        'learning_rate': [.01, .02, .03, .04, .05], # np.arange(.01, 1, .01), #LOOK AT INCREASING STEP SIZES\n",
    "        'max_depth': [5, 10, 15, 20, 25,], #np.arange(1, 100, 1), #\n",
    "        'min_child_samples': [1, 2, 3], #np.arange(1, 15, 2), #,\n",
    "        'subsample': np.arange(.3, .7, .1),\n",
    "        'colsample_bytree': np.arange(.1, 1, .1),\n",
    "        'n_estimators' :[50, 100, 150, 200, 250, 300, 350, 400,], #np.arange(100, 1200, 100), #\n",
    "        #'objective': ['reg:squarederror'],  \n",
    "        }'''\n",
    " \n",
    "    parameters = {\n",
    "        #'learning_rate': [.01, .02, .03, .04, .05], # np.arange(.01, 1, .01), #LOOK AT INCREASING STEP SIZES\n",
    "        'min_samples_split': [1,2,3,],\n",
    "        'max_depth': [5, 10, 15, 20, 25,], #np.arange(1, 100, 1), #\n",
    "        #'min_child_samples': [1, 3, 5], #np.arange(1, 15, 2), #,\n",
    "        'min_samples_leaf': [1, 2, 3],\n",
    "        #'subsample': np.arange(.3, .7, .1),\n",
    "        #'colsample_bytree': np.arange(.1, 1, .1),\n",
    "        'n_estimators' :[25, 50, 75, 100, 150, 200, 250], #np.arange(100, 1200, 100), #\n",
    "        #'objective': ['reg:squarederror'],  \n",
    "        }\n",
    "    gs = RandomizedSearchCV(rf2, parameters, cv = 3)\n",
    "    gs.fit(X_train, y_train)\n",
    "\n",
    "    #looking at how we did \n",
    "    X_test = np.array(X_test).reshape(-1,1)\n",
    "    boost_preds = gs.predict(X_test)\n",
    "    print(boost_preds)\n",
    "    mse_rf_xgb = (mean_squared_error(boost_preds, y_test))**(1/2)\n",
    "    print(\"overall RMSE\")\n",
    "    print(mse_rf_xgb)  \n",
    "    print(\" \")\n",
    "\n",
    "    #plt.scatter(x = rf_pred2, y = np.e**y_val, color = \"blue\")\n",
    "    plt.scatter(x = y_test, y = boost_preds, color = \"lightgreen\")\n",
    "    plt.title(\"random foreset CV = 5, CWSI predicting SWC\")\n",
    "    plt.xlabel('true values')\n",
    "    plt.ylabel(\"Predicted values by random forest\")\n",
    "    #trendline(rf_pred2, np.e**(y_val))\n",
    "    trendline(boost_preds, y_test)\n",
    "    plt.show()\n",
    "    return gs"
   ]
  },
  {
   "cell_type": "code",
   "execution_count": 59,
   "metadata": {},
   "outputs": [
    {
     "name": "stdout",
     "output_type": "stream",
     "text": [
      "(33,)\n",
      "33\n",
      "[22.57991429 24.61640762 26.05586905 24.40647619 24.66229095 22.58561429\n",
      " 22.57991429 22.76051095 22.66459429 22.97863    22.78622762]\n",
      "overall RMSE\n",
      "0.7544605641036716\n",
      " \n"
     ]
    },
    {
     "data": {
      "image/png": "[encoded data removed]",
      "text/plain": [
       "<Figure size 432x288 with 1 Axes>"
      ]
     },
     "metadata": {
      "needs_background": "light"
     },
     "output_type": "display_data"
    }
   ],
   "source": [
    "forest = train_predict(data)"
   ]
  },
  {
   "cell_type": "markdown",
   "metadata": {},
   "source": [
    "yeah  so this didn't work super  great, like its not terrible, for observations beelow about 23.5, it did really well, but after that it was kind of all  over the place. The forest struggled because it only had one input to the model and thus was unable to really learn from different branches and patterns. It would have been better to do some sort of penalized regression. -- so at least this  method,  was CWSI was not a super  great predictor of SWC. althought it is entirely possible that if we were to use a nueral network or something a little more robust that we could get better predictions. It is also possible that CWSI simply does not do a good job of predicting, which would mean to improve we would need more training data and more data in terms of features for the model "
   ]
  },
  {
   "cell_type": "markdown",
   "metadata": {},
   "source": [
    "#2 Given a CWSI measurement of 0.5, approximately how much water needs to be added to bring the SWC up to full capacity (29)?"
   ]
  },
  {
   "cell_type": "code",
   "execution_count": 61,
   "metadata": {},
   "outputs": [
    {
     "data": {
      "text/plain": [
       "5.561039999999995"
      ]
     },
     "execution_count": 61,
     "metadata": {},
     "output_type": "execute_result"
    }
   ],
   "source": [
    "#ok so here is our predition from  our random forest \n",
    "pred = np.array(.5).reshape(-1,1)\n",
    "p = 29-forest.predict(pred)[0]\n",
    "p"
   ]
  },
  {
   "cell_type": "code",
   "execution_count": 63,
   "metadata": {},
   "outputs": [
    {
     "data": {
      "text/plain": [
       "(4.806579435896324, 6.315500564103666)"
      ]
     },
     "execution_count": 63,
     "metadata": {},
     "output_type": "execute_result"
    }
   ],
   "source": [
    "rmse = 0.7544605641036716\n",
    "#so creating a range of possible water necessity \n",
    "water = (p-rmse, p+rmse)\n",
    "water"
   ]
  },
  {
   "cell_type": "markdown",
   "metadata": {},
   "source": [
    "this would be our estimage of how much water you would need to add\n"
   ]
  },
  {
   "cell_type": "code",
   "execution_count": null,
   "metadata": {},
   "outputs": [],
   "source": []
  }
 ],
 "metadata": {
  "kernelspec": {
   "display_name": "Python 3",
   "language": "python",
   "name": "python3"
  },
  "language_info": {
   "codemirror_mode": {
    "name": "ipython",
    "version": 3
   },
   "file_extension": ".py",
   "mimetype": "text/x-python",
   "name": "python",
   "nbconvert_exporter": "python",
   "pygments_lexer": "ipython3",
   "version": "3.8.5"
  }
 },
 "nbformat": 4,
 "nbformat_minor": 4
}
