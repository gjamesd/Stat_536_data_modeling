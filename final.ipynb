{
 "cells": [
  {
   "cell_type": "markdown",
   "metadata": {},
   "source": [
    "# James Griffin \n",
    "## 536 Final \n"
   ]
  },
  {
   "cell_type": "markdown",
   "metadata": {},
   "source": [
    "TULIP GERMINATION\n",
    "Tulips came to the Netherlands in the mid-16th century and quickly become a symbol of the region. To this day, Holland (a region along the west-cost of the Netherlands) is known as the “flower shop of the world.” Each year, around the end of April, hundreds of thousands of visitors from around the world flock to the region to participate in local tulip festivals bringing in millions of dollars of revenue for the region. Further, tulip exports account for approximately 25% of agricultural exports for the region.\n",
    "Tulips are typically planted in the late Fall allowing for the bulb to go through a “chilling period” prior to blooming. Further, ideal growing conditions for tulips are in light, airy, well- drained soil. Once blooming begins, tulips require plenty of sunshine to reach full growth.\n",
    "Alarmingly, climate change is striking the Netherlands particularly hard. The temperature is expected to rise at about twice the global average and precipitation is expected in increase. Further, with rising sea levels and the fact that 1/3 of the Netherlands is actually below sea level raises the risk of flooding to the area. In all, climate change threatens Netherlands tulip economy.\n",
    "Over the past several years, researchers have been studying various species of tulips to un- derstand which species under which conditions are ideal for expected climate conditions moving forward. In one such experiment, 210 tulip bulbs of 12 different species (2510 bulbs total) were randomly split into 7 different treatment groups (30 bulbs per group per species). Each group was then assigned a chilling time of 0, 2, 4, . . . , 12 weeks (in a lab refrigerator) after which the seeds were planted in separate pots in a greenhouse. The bulbs were then monitored to see if they germinated (bloomed) or not.\n",
    "In this analysis, you are required to answer the following questions:\n",
    "1. What is the effect of chilling time for the different species of tulips? Is it the same across the species? Which species are the same/different?\n",
    "2. Is there an ideal chilling time for each species? If so, is it the same for all species?\n",
    "3. Given climate change conditions, winters are expected to decrease from 10 to 8 weeks, on average. What effect will this decrease in chilling time have on the probability of germina- tion for each species? Is it the same for all species?\n",
    "\n",
    "For this project:\n",
    "* You must work on your own\n",
    "* I will help debug coding errors only (your code must throw an error) • Schedule a time during finals week to come present your final\n",
    "* Give an answer to each of the research questions\n",
    "* Follow the course case study rubric"
   ]
  },
  {
   "cell_type": "code",
   "execution_count": 209,
   "metadata": {},
   "outputs": [],
   "source": [
    "## Importing \n",
    "import numpy as np\n",
    "import pandas as pd\n",
    "import matplotlib.pyplot as plt \n",
    "import seaborn as sns \n",
    "import warnings; warnings.simplefilter('ignore')"
   ]
  },
  {
   "cell_type": "code",
   "execution_count": 18,
   "metadata": {},
   "outputs": [
    {
     "data": {
      "text/html": [
       "<div>\n",
       "<style scoped>\n",
       "    .dataframe tbody tr th:only-of-type {\n",
       "        vertical-align: middle;\n",
       "    }\n",
       "\n",
       "    .dataframe tbody tr th {\n",
       "        vertical-align: top;\n",
       "    }\n",
       "\n",
       "    .dataframe thead th {\n",
       "        text-align: right;\n",
       "    }\n",
       "</style>\n",
       "<table border=\"1\" class=\"dataframe\">\n",
       "  <thead>\n",
       "    <tr style=\"text-align: right;\">\n",
       "      <th></th>\n",
       "      <th>Unnamed: 0</th>\n",
       "      <th>Population</th>\n",
       "      <th>YearCollected</th>\n",
       "      <th>DayCollected</th>\n",
       "      <th>ChillingTime</th>\n",
       "      <th>Germinated</th>\n",
       "    </tr>\n",
       "  </thead>\n",
       "  <tbody>\n",
       "    <tr>\n",
       "      <th>0</th>\n",
       "      <td>1</td>\n",
       "      <td>12</td>\n",
       "      <td>2017</td>\n",
       "      <td>267</td>\n",
       "      <td>0</td>\n",
       "      <td>N</td>\n",
       "    </tr>\n",
       "    <tr>\n",
       "      <th>1</th>\n",
       "      <td>2</td>\n",
       "      <td>12</td>\n",
       "      <td>2017</td>\n",
       "      <td>267</td>\n",
       "      <td>0</td>\n",
       "      <td>N</td>\n",
       "    </tr>\n",
       "    <tr>\n",
       "      <th>2</th>\n",
       "      <td>3</td>\n",
       "      <td>12</td>\n",
       "      <td>2017</td>\n",
       "      <td>267</td>\n",
       "      <td>0</td>\n",
       "      <td>N</td>\n",
       "    </tr>\n",
       "    <tr>\n",
       "      <th>3</th>\n",
       "      <td>4</td>\n",
       "      <td>12</td>\n",
       "      <td>2017</td>\n",
       "      <td>267</td>\n",
       "      <td>0</td>\n",
       "      <td>N</td>\n",
       "    </tr>\n",
       "    <tr>\n",
       "      <th>4</th>\n",
       "      <td>5</td>\n",
       "      <td>12</td>\n",
       "      <td>2017</td>\n",
       "      <td>267</td>\n",
       "      <td>0</td>\n",
       "      <td>N</td>\n",
       "    </tr>\n",
       "  </tbody>\n",
       "</table>\n",
       "</div>"
      ],
      "text/plain": [
       "   Unnamed: 0  Population  YearCollected  DayCollected  ChillingTime  \\\n",
       "0           1          12           2017           267             0   \n",
       "1           2          12           2017           267             0   \n",
       "2           3          12           2017           267             0   \n",
       "3           4          12           2017           267             0   \n",
       "4           5          12           2017           267             0   \n",
       "\n",
       "  Germinated  \n",
       "0          N  \n",
       "1          N  \n",
       "2          N  \n",
       "3          N  \n",
       "4          N  "
      ]
     },
     "execution_count": 18,
     "metadata": {},
     "output_type": "execute_result"
    }
   ],
   "source": [
    "data = pd.read_csv(\"../data/Germination.csv\")\n",
    "data.head()"
   ]
  },
  {
   "cell_type": "code",
   "execution_count": 19,
   "metadata": {},
   "outputs": [
    {
     "data": {
      "text/plain": [
       "11    210\n",
       "9     210\n",
       "7     210\n",
       "5     210\n",
       "3     210\n",
       "1     210\n",
       "12    210\n",
       "10    210\n",
       "8     210\n",
       "6     210\n",
       "4     210\n",
       "2     210\n",
       "Name: Population, dtype: int64"
      ]
     },
     "execution_count": 19,
     "metadata": {},
     "output_type": "execute_result"
    }
   ],
   "source": [
    "#each population has 210 results \n",
    "data.Population.value_counts()"
   ]
  },
  {
   "cell_type": "code",
   "execution_count": 20,
   "metadata": {},
   "outputs": [
    {
     "data": {
      "text/plain": [
       "12    360\n",
       "10    360\n",
       "8     360\n",
       "6     360\n",
       "4     360\n",
       "2     360\n",
       "0     360\n",
       "Name: ChillingTime, dtype: int64"
      ]
     },
     "execution_count": 20,
     "metadata": {},
     "output_type": "execute_result"
    }
   ],
   "source": [
    "data.ChillingTime.value_counts()"
   ]
  },
  {
   "cell_type": "code",
   "execution_count": 21,
   "metadata": {},
   "outputs": [],
   "source": [
    "data.Germinated.value_counts()\n",
    "#okso pretty balanced going to turn this to 0 and 1 tho\n",
    "data['Germinated'] = data.Germinated.apply(lambda x: 1 if x == 'Y' else 0)\n"
   ]
  },
  {
   "cell_type": "markdown",
   "metadata": {},
   "source": [
    "#### Is the probability of germination for each chilling time the same across all populations? Which populations are same/different?"
   ]
  },
  {
   "cell_type": "code",
   "execution_count": 22,
   "metadata": {},
   "outputs": [
    {
     "data": {
      "text/html": [
       "<div>\n",
       "<style scoped>\n",
       "    .dataframe tbody tr th:only-of-type {\n",
       "        vertical-align: middle;\n",
       "    }\n",
       "\n",
       "    .dataframe tbody tr th {\n",
       "        vertical-align: top;\n",
       "    }\n",
       "\n",
       "    .dataframe thead th {\n",
       "        text-align: right;\n",
       "    }\n",
       "</style>\n",
       "<table border=\"1\" class=\"dataframe\">\n",
       "  <thead>\n",
       "    <tr style=\"text-align: right;\">\n",
       "      <th></th>\n",
       "      <th>Unnamed: 0</th>\n",
       "      <th>Population</th>\n",
       "      <th>YearCollected</th>\n",
       "      <th>DayCollected</th>\n",
       "      <th>ChillingTime</th>\n",
       "      <th>Germinated</th>\n",
       "    </tr>\n",
       "  </thead>\n",
       "  <tbody>\n",
       "    <tr>\n",
       "      <th>0</th>\n",
       "      <td>1</td>\n",
       "      <td>12</td>\n",
       "      <td>2017</td>\n",
       "      <td>267</td>\n",
       "      <td>0</td>\n",
       "      <td>0</td>\n",
       "    </tr>\n",
       "    <tr>\n",
       "      <th>1</th>\n",
       "      <td>2</td>\n",
       "      <td>12</td>\n",
       "      <td>2017</td>\n",
       "      <td>267</td>\n",
       "      <td>0</td>\n",
       "      <td>0</td>\n",
       "    </tr>\n",
       "    <tr>\n",
       "      <th>2</th>\n",
       "      <td>3</td>\n",
       "      <td>12</td>\n",
       "      <td>2017</td>\n",
       "      <td>267</td>\n",
       "      <td>0</td>\n",
       "      <td>0</td>\n",
       "    </tr>\n",
       "    <tr>\n",
       "      <th>3</th>\n",
       "      <td>4</td>\n",
       "      <td>12</td>\n",
       "      <td>2017</td>\n",
       "      <td>267</td>\n",
       "      <td>0</td>\n",
       "      <td>0</td>\n",
       "    </tr>\n",
       "    <tr>\n",
       "      <th>4</th>\n",
       "      <td>5</td>\n",
       "      <td>12</td>\n",
       "      <td>2017</td>\n",
       "      <td>267</td>\n",
       "      <td>0</td>\n",
       "      <td>0</td>\n",
       "    </tr>\n",
       "  </tbody>\n",
       "</table>\n",
       "</div>"
      ],
      "text/plain": [
       "   Unnamed: 0  Population  YearCollected  DayCollected  ChillingTime  \\\n",
       "0           1          12           2017           267             0   \n",
       "1           2          12           2017           267             0   \n",
       "2           3          12           2017           267             0   \n",
       "3           4          12           2017           267             0   \n",
       "4           5          12           2017           267             0   \n",
       "\n",
       "   Germinated  \n",
       "0           0  \n",
       "1           0  \n",
       "2           0  \n",
       "3           0  \n",
       "4           0  "
      ]
     },
     "execution_count": 22,
     "metadata": {},
     "output_type": "execute_result"
    }
   ],
   "source": [
    "data.head()"
   ]
  },
  {
   "cell_type": "code",
   "execution_count": 23,
   "metadata": {},
   "outputs": [
    {
     "data": {
      "text/html": [
       "<div>\n",
       "<style scoped>\n",
       "    .dataframe tbody tr th:only-of-type {\n",
       "        vertical-align: middle;\n",
       "    }\n",
       "\n",
       "    .dataframe tbody tr th {\n",
       "        vertical-align: top;\n",
       "    }\n",
       "\n",
       "    .dataframe thead th {\n",
       "        text-align: right;\n",
       "    }\n",
       "</style>\n",
       "<table border=\"1\" class=\"dataframe\">\n",
       "  <thead>\n",
       "    <tr style=\"text-align: right;\">\n",
       "      <th></th>\n",
       "      <th>Unnamed: 0</th>\n",
       "      <th>Population</th>\n",
       "      <th>YearCollected</th>\n",
       "      <th>DayCollected</th>\n",
       "      <th>ChillingTime</th>\n",
       "      <th>Germinated</th>\n",
       "    </tr>\n",
       "  </thead>\n",
       "  <tbody>\n",
       "    <tr>\n",
       "      <th>0</th>\n",
       "      <td>1</td>\n",
       "      <td>12</td>\n",
       "      <td>2017</td>\n",
       "      <td>267</td>\n",
       "      <td>0</td>\n",
       "      <td>0</td>\n",
       "    </tr>\n",
       "    <tr>\n",
       "      <th>1</th>\n",
       "      <td>2</td>\n",
       "      <td>12</td>\n",
       "      <td>2017</td>\n",
       "      <td>267</td>\n",
       "      <td>0</td>\n",
       "      <td>0</td>\n",
       "    </tr>\n",
       "    <tr>\n",
       "      <th>2</th>\n",
       "      <td>3</td>\n",
       "      <td>12</td>\n",
       "      <td>2017</td>\n",
       "      <td>267</td>\n",
       "      <td>0</td>\n",
       "      <td>0</td>\n",
       "    </tr>\n",
       "    <tr>\n",
       "      <th>3</th>\n",
       "      <td>4</td>\n",
       "      <td>12</td>\n",
       "      <td>2017</td>\n",
       "      <td>267</td>\n",
       "      <td>0</td>\n",
       "      <td>0</td>\n",
       "    </tr>\n",
       "    <tr>\n",
       "      <th>4</th>\n",
       "      <td>5</td>\n",
       "      <td>12</td>\n",
       "      <td>2017</td>\n",
       "      <td>267</td>\n",
       "      <td>0</td>\n",
       "      <td>0</td>\n",
       "    </tr>\n",
       "    <tr>\n",
       "      <th>...</th>\n",
       "      <td>...</td>\n",
       "      <td>...</td>\n",
       "      <td>...</td>\n",
       "      <td>...</td>\n",
       "      <td>...</td>\n",
       "      <td>...</td>\n",
       "    </tr>\n",
       "    <tr>\n",
       "      <th>2275</th>\n",
       "      <td>2276</td>\n",
       "      <td>1</td>\n",
       "      <td>2015</td>\n",
       "      <td>138</td>\n",
       "      <td>12</td>\n",
       "      <td>1</td>\n",
       "    </tr>\n",
       "    <tr>\n",
       "      <th>2276</th>\n",
       "      <td>2277</td>\n",
       "      <td>1</td>\n",
       "      <td>2015</td>\n",
       "      <td>138</td>\n",
       "      <td>12</td>\n",
       "      <td>1</td>\n",
       "    </tr>\n",
       "    <tr>\n",
       "      <th>2277</th>\n",
       "      <td>2278</td>\n",
       "      <td>1</td>\n",
       "      <td>2015</td>\n",
       "      <td>138</td>\n",
       "      <td>12</td>\n",
       "      <td>1</td>\n",
       "    </tr>\n",
       "    <tr>\n",
       "      <th>2278</th>\n",
       "      <td>2279</td>\n",
       "      <td>1</td>\n",
       "      <td>2015</td>\n",
       "      <td>138</td>\n",
       "      <td>12</td>\n",
       "      <td>1</td>\n",
       "    </tr>\n",
       "    <tr>\n",
       "      <th>2279</th>\n",
       "      <td>2280</td>\n",
       "      <td>1</td>\n",
       "      <td>2015</td>\n",
       "      <td>138</td>\n",
       "      <td>12</td>\n",
       "      <td>1</td>\n",
       "    </tr>\n",
       "  </tbody>\n",
       "</table>\n",
       "<p>840 rows × 6 columns</p>\n",
       "</div>"
      ],
      "text/plain": [
       "      Unnamed: 0  Population  YearCollected  DayCollected  ChillingTime  \\\n",
       "0              1          12           2017           267             0   \n",
       "1              2          12           2017           267             0   \n",
       "2              3          12           2017           267             0   \n",
       "3              4          12           2017           267             0   \n",
       "4              5          12           2017           267             0   \n",
       "...          ...         ...            ...           ...           ...   \n",
       "2275        2276           1           2015           138            12   \n",
       "2276        2277           1           2015           138            12   \n",
       "2277        2278           1           2015           138            12   \n",
       "2278        2279           1           2015           138            12   \n",
       "2279        2280           1           2015           138            12   \n",
       "\n",
       "      Germinated  \n",
       "0              0  \n",
       "1              0  \n",
       "2              0  \n",
       "3              0  \n",
       "4              0  \n",
       "...          ...  \n",
       "2275           1  \n",
       "2276           1  \n",
       "2277           1  \n",
       "2278           1  \n",
       "2279           1  \n",
       "\n",
       "[840 rows x 6 columns]"
      ]
     },
     "execution_count": 23,
     "metadata": {},
     "output_type": "execute_result"
    }
   ],
   "source": [
    "pops = data.groupby(by = ['Population', 'ChillingTime'])\n",
    "pops.head(10)"
   ]
  },
  {
   "cell_type": "code",
   "execution_count": null,
   "metadata": {},
   "outputs": [],
   "source": []
  },
  {
   "cell_type": "code",
   "execution_count": 95,
   "metadata": {},
   "outputs": [],
   "source": [
    "g1 = data.loc[data.Germinated == 1]"
   ]
  },
  {
   "cell_type": "code",
   "execution_count": 64,
   "metadata": {},
   "outputs": [],
   "source": [
    "m2 = pd.DataFrame(data.groupby(['Germinated', 'Population'])[ \n",
    "                                               'ChillingTime'].mean())\n",
    "\n",
    "#m2.sort_values(by='Population', ascending=False).head(10)"
   ]
  },
  {
   "cell_type": "code",
   "execution_count": 268,
   "metadata": {},
   "outputs": [],
   "source": [
    "m3 = pd.DataFrame(g1.groupby(['Germinated', 'Population'])[ \n",
    "                                               'ChillingTime'].mean())\n",
    "\n"
   ]
  },
  {
   "cell_type": "code",
   "execution_count": 269,
   "metadata": {},
   "outputs": [
    {
     "data": {
      "text/html": [
       "<div>\n",
       "<style scoped>\n",
       "    .dataframe tbody tr th:only-of-type {\n",
       "        vertical-align: middle;\n",
       "    }\n",
       "\n",
       "    .dataframe tbody tr th {\n",
       "        vertical-align: top;\n",
       "    }\n",
       "\n",
       "    .dataframe thead th {\n",
       "        text-align: right;\n",
       "    }\n",
       "</style>\n",
       "<table border=\"1\" class=\"dataframe\">\n",
       "  <thead>\n",
       "    <tr style=\"text-align: right;\">\n",
       "      <th></th>\n",
       "      <th></th>\n",
       "      <th>ChillingTime</th>\n",
       "    </tr>\n",
       "    <tr>\n",
       "      <th>Germinated</th>\n",
       "      <th>Population</th>\n",
       "      <th></th>\n",
       "    </tr>\n",
       "  </thead>\n",
       "  <tbody>\n",
       "    <tr>\n",
       "      <th rowspan=\"11\" valign=\"top\">1</th>\n",
       "      <th>1</th>\n",
       "      <td>6.528736</td>\n",
       "    </tr>\n",
       "    <tr>\n",
       "      <th>2</th>\n",
       "      <td>7.248227</td>\n",
       "    </tr>\n",
       "    <tr>\n",
       "      <th>3</th>\n",
       "      <td>7.428571</td>\n",
       "    </tr>\n",
       "    <tr>\n",
       "      <th>4</th>\n",
       "      <td>8.109091</td>\n",
       "    </tr>\n",
       "    <tr>\n",
       "      <th>5</th>\n",
       "      <td>5.969466</td>\n",
       "    </tr>\n",
       "    <tr>\n",
       "      <th>6</th>\n",
       "      <td>9.250000</td>\n",
       "    </tr>\n",
       "    <tr>\n",
       "      <th>7</th>\n",
       "      <td>9.361111</td>\n",
       "    </tr>\n",
       "    <tr>\n",
       "      <th>8</th>\n",
       "      <td>7.914894</td>\n",
       "    </tr>\n",
       "    <tr>\n",
       "      <th>9</th>\n",
       "      <td>10.842105</td>\n",
       "    </tr>\n",
       "    <tr>\n",
       "      <th>10</th>\n",
       "      <td>8.772277</td>\n",
       "    </tr>\n",
       "    <tr>\n",
       "      <th>11</th>\n",
       "      <td>8.944444</td>\n",
       "    </tr>\n",
       "  </tbody>\n",
       "</table>\n",
       "</div>"
      ],
      "text/plain": [
       "                       ChillingTime\n",
       "Germinated Population              \n",
       "1          1               6.528736\n",
       "           2               7.248227\n",
       "           3               7.428571\n",
       "           4               8.109091\n",
       "           5               5.969466\n",
       "           6               9.250000\n",
       "           7               9.361111\n",
       "           8               7.914894\n",
       "           9              10.842105\n",
       "           10              8.772277\n",
       "           11              8.944444"
      ]
     },
     "execution_count": 269,
     "metadata": {},
     "output_type": "execute_result"
    }
   ],
   "source": [
    "m3.sort_values(by='Population', ascending=True).head(50)\n"
   ]
  },
  {
   "cell_type": "code",
   "execution_count": 277,
   "metadata": {},
   "outputs": [],
   "source": [
    "new_row = {'Germinated':1, 'Population':11, 'ChilliingTime':0,}\n",
    "m4 = pd.DataFrame(m3).reset_index().append([1,12,0], ignore_index=True)"
   ]
  },
  {
   "cell_type": "code",
   "execution_count": 288,
   "metadata": {},
   "outputs": [],
   "source": [
    "m4 = m3.reset_index()"
   ]
  },
  {
   "cell_type": "code",
   "execution_count": 291,
   "metadata": {},
   "outputs": [],
   "source": [
    "m5 = m4.append(pd.DataFrame([[1,12,0]], columns\n",
    "=m4.columns))"
   ]
  },
  {
   "cell_type": "code",
   "execution_count": 293,
   "metadata": {},
   "outputs": [
    {
     "data": {
      "text/html": [
       "<div>\n",
       "<style scoped>\n",
       "    .dataframe tbody tr th:only-of-type {\n",
       "        vertical-align: middle;\n",
       "    }\n",
       "\n",
       "    .dataframe tbody tr th {\n",
       "        vertical-align: top;\n",
       "    }\n",
       "\n",
       "    .dataframe thead th {\n",
       "        text-align: right;\n",
       "    }\n",
       "</style>\n",
       "<table border=\"1\" class=\"dataframe\">\n",
       "  <thead>\n",
       "    <tr style=\"text-align: right;\">\n",
       "      <th></th>\n",
       "      <th>Germinated</th>\n",
       "      <th>Population</th>\n",
       "      <th>ChillingTime</th>\n",
       "    </tr>\n",
       "  </thead>\n",
       "  <tbody>\n",
       "    <tr>\n",
       "      <th>0</th>\n",
       "      <td>1</td>\n",
       "      <td>1</td>\n",
       "      <td>6.528736</td>\n",
       "    </tr>\n",
       "    <tr>\n",
       "      <th>1</th>\n",
       "      <td>1</td>\n",
       "      <td>2</td>\n",
       "      <td>7.248227</td>\n",
       "    </tr>\n",
       "    <tr>\n",
       "      <th>2</th>\n",
       "      <td>1</td>\n",
       "      <td>3</td>\n",
       "      <td>7.428571</td>\n",
       "    </tr>\n",
       "    <tr>\n",
       "      <th>3</th>\n",
       "      <td>1</td>\n",
       "      <td>4</td>\n",
       "      <td>8.109091</td>\n",
       "    </tr>\n",
       "    <tr>\n",
       "      <th>4</th>\n",
       "      <td>1</td>\n",
       "      <td>5</td>\n",
       "      <td>5.969466</td>\n",
       "    </tr>\n",
       "    <tr>\n",
       "      <th>5</th>\n",
       "      <td>1</td>\n",
       "      <td>6</td>\n",
       "      <td>9.250000</td>\n",
       "    </tr>\n",
       "    <tr>\n",
       "      <th>6</th>\n",
       "      <td>1</td>\n",
       "      <td>7</td>\n",
       "      <td>9.361111</td>\n",
       "    </tr>\n",
       "    <tr>\n",
       "      <th>7</th>\n",
       "      <td>1</td>\n",
       "      <td>8</td>\n",
       "      <td>7.914894</td>\n",
       "    </tr>\n",
       "    <tr>\n",
       "      <th>8</th>\n",
       "      <td>1</td>\n",
       "      <td>9</td>\n",
       "      <td>10.842105</td>\n",
       "    </tr>\n",
       "    <tr>\n",
       "      <th>9</th>\n",
       "      <td>1</td>\n",
       "      <td>10</td>\n",
       "      <td>8.772277</td>\n",
       "    </tr>\n",
       "    <tr>\n",
       "      <th>10</th>\n",
       "      <td>1</td>\n",
       "      <td>11</td>\n",
       "      <td>8.944444</td>\n",
       "    </tr>\n",
       "    <tr>\n",
       "      <th>0</th>\n",
       "      <td>1</td>\n",
       "      <td>12</td>\n",
       "      <td>0.000000</td>\n",
       "    </tr>\n",
       "  </tbody>\n",
       "</table>\n",
       "</div>"
      ],
      "text/plain": [
       "    Germinated  Population  ChillingTime\n",
       "0            1           1      6.528736\n",
       "1            1           2      7.248227\n",
       "2            1           3      7.428571\n",
       "3            1           4      8.109091\n",
       "4            1           5      5.969466\n",
       "5            1           6      9.250000\n",
       "6            1           7      9.361111\n",
       "7            1           8      7.914894\n",
       "8            1           9     10.842105\n",
       "9            1          10      8.772277\n",
       "10           1          11      8.944444\n",
       "0            1          12      0.000000"
      ]
     },
     "execution_count": 293,
     "metadata": {},
     "output_type": "execute_result"
    }
   ],
   "source": [
    "m5.sort_values(by='Population', ascending=True).head(50)"
   ]
  },
  {
   "cell_type": "code",
   "execution_count": 26,
   "metadata": {},
   "outputs": [],
   "source": [
    "popd = pd.get_dummies(data.Population)\n",
    "popd['ct'] = data.ChillingTime"
   ]
  },
  {
   "cell_type": "code",
   "execution_count": 71,
   "metadata": {},
   "outputs": [],
   "source": [
    "#I think to answer this question create interactions between populatiton and chilltime and then compare ANOVA plots w/ \n",
    "#F statistics on a regression without the interactions, then inturpret the F statistics \n",
    "\n",
    "'''\n",
    "I dont really know how else to do this, there has gotta be a function i was just gonna code up a function'''\n",
    "\n",
    "def make_int(df):\n",
    "    one  =  [] #pontiac\n",
    "    two  = [] #saab\n",
    "    three = [] #buick\n",
    "    four = [] #chevy\n",
    "    five = []#saturn \n",
    "    six= []  #cadalac\n",
    "    seven = []\n",
    "    eight = []\n",
    "    nine = []\n",
    "    ten = []\n",
    "    el = []\n",
    "    tw = []\n",
    "    overall= [] \n",
    "    \n",
    "    \n",
    "    for i in range(len(df)):\n",
    "        if df.Population[i] == 1:\n",
    "            one.append(df.ChillingTime[i])\n",
    "            two.append(0)\n",
    "            three.append(0)\n",
    "            four.append(0)\n",
    "            five.append(0)\n",
    "            six.append(0)\n",
    "            seven.append(0)\n",
    "            eight.append(0)\n",
    "            nine.append(0)\n",
    "            ten.append(0)\n",
    "            el.append(0)\n",
    "            tw.append(0)\n",
    "            overall.append('1*chill')\n",
    "            \n",
    "        elif df.Population[i] == 2:\n",
    "            one.append(0)\n",
    "            two.append(df.ChillingTime[i])\n",
    "            three.append(0)\n",
    "            four.append(0)\n",
    "            five.append(0)\n",
    "            six.append(0)\n",
    "            seven.append(0)\n",
    "            eight.append(0)\n",
    "            nine.append(0)\n",
    "            ten.append(0)\n",
    "            el.append(0)\n",
    "            tw.append(0)\n",
    "            overall.append('2*chill')\n",
    "            \n",
    "        elif df.Population[i] == 3:\n",
    "            one.append(0)\n",
    "            two.append(0)\n",
    "            three.append(df.ChillingTime[i])\n",
    "            four.append(0)\n",
    "            five.append(0)\n",
    "            six.append(0)\n",
    "            seven.append(0)\n",
    "            eight.append(0)\n",
    "            nine.append(0)\n",
    "            ten.append(0)\n",
    "            el.append(0)\n",
    "            tw.append(0)\n",
    "            overall.append('3*chill')\n",
    "            \n",
    "        elif df.Population[i] == 4:\n",
    "            one.append(0)\n",
    "            two.append(0)\n",
    "            three.append(0)\n",
    "            four.append(df.ChillingTime[i])\n",
    "            five.append(0)\n",
    "            six.append(0)\n",
    "            seven.append(0)\n",
    "            eight.append(0)\n",
    "            nine.append(0)\n",
    "            ten.append(0)\n",
    "            el.append(0)\n",
    "            tw.append(0)\n",
    "            overall.append('4*chill')\n",
    "            \n",
    "        elif df.Population[i] == 5:\n",
    "            one.append(0)\n",
    "            two.append(0)\n",
    "            three.append(0)\n",
    "            four.append(0)\n",
    "            five.append(df.ChillingTime[i])\n",
    "            six.append(0)\n",
    "            seven.append(0)\n",
    "            eight.append(0)\n",
    "            nine.append(0)\n",
    "            ten.append(0)\n",
    "            el.append(0)\n",
    "            tw.append(0)\n",
    "            overall.append('5*chill')\n",
    "            \n",
    "        elif df.Population[i] == 6:\n",
    "            one.append(0)\n",
    "            two.append(0)\n",
    "            three.append(0)\n",
    "            four.append(0)\n",
    "            five.append(0)\n",
    "            six.append(df.ChillingTime[i])\n",
    "            seven.append(0)\n",
    "            eight.append(0)\n",
    "            nine.append(0)\n",
    "            ten.append(0)\n",
    "            el.append(0)\n",
    "            tw.append(0)\n",
    "            overall.append('6*chill')\n",
    "        \n",
    "        elif df.Population[i] == 7:\n",
    "            one.append(0)\n",
    "            two.append(0)\n",
    "            three.append(0)\n",
    "            four.append(0)\n",
    "            five.append(0)\n",
    "            six.append(0)\n",
    "            seven.append(df.ChillingTime[i])\n",
    "            eight.append(0)\n",
    "            nine.append(0)\n",
    "            ten.append(0)\n",
    "            el.append(0)\n",
    "            tw.append(0) \n",
    "            overall.append('7*chill')\n",
    "            \n",
    "        elif df.Population[i] == 8:\n",
    "            one.append(0)\n",
    "            two.append(0)\n",
    "            three.append(0)\n",
    "            four.append(0)\n",
    "            five.append(0)\n",
    "            six.append(0)\n",
    "            seven.append(0)\n",
    "            eight.append(df.ChillingTime[i])\n",
    "            nine.append(0)\n",
    "            ten.append(0)\n",
    "            el.append(0)\n",
    "            tw.append(0)\n",
    "            overall.append('8*chill')\n",
    "        \n",
    "        elif df.Population[i] == 9:\n",
    "            one.append(0)\n",
    "            two.append(0)\n",
    "            three.append(0)\n",
    "            four.append(0)\n",
    "            five.append(0)\n",
    "            six.append(0)\n",
    "            seven.append(0)\n",
    "            eight.append(0)\n",
    "            nine.append(df.ChillingTime[i])\n",
    "            ten.append(0)\n",
    "            el.append(0)\n",
    "            tw.append(0)\n",
    "            overall.append('9*chill')\n",
    "            \n",
    "        elif df.Population[i] == 10:\n",
    "            one.append(0)\n",
    "            two.append(0)\n",
    "            three.append(0)\n",
    "            four.append(0)\n",
    "            five.append(0)\n",
    "            six.append(0)\n",
    "            seven.append(0)\n",
    "            eight.append(0)\n",
    "            nine.append(0)\n",
    "            ten.append(df.ChillingTime[i])\n",
    "            el.append(0)\n",
    "            tw.append(0)\n",
    "            overall.append('10*chill')\n",
    "            \n",
    "        elif df.Population[i] == 11:\n",
    "            one.append(0)\n",
    "            two.append(0)\n",
    "            three.append(0)\n",
    "            four.append(0)\n",
    "            five.append(0)\n",
    "            six.append(0)\n",
    "            seven.append(0)\n",
    "            eight.append(0)\n",
    "            nine.append(0)\n",
    "            ten.append(0)\n",
    "            el.append(df.ChillingTime[i])\n",
    "            tw.append(0)\n",
    "            overall.append('11*chill')\n",
    "            \n",
    "        else: #cadallac case \n",
    "            one.append(0)\n",
    "            two.append(0)\n",
    "            three.append(0)\n",
    "            four.append(0)\n",
    "            five.append(0)\n",
    "            six.append(0)\n",
    "            seven.append(0)\n",
    "            eight.append(0)\n",
    "            nine.append(0)\n",
    "            ten.append(0)\n",
    "            el.append(0)\n",
    "            tw.append(df.ChillingTime[i])\n",
    "            overall.append('12*chill')\n",
    "    \n",
    "    df['1*cill'] = one\n",
    "    df['2*chill'] = two\n",
    "    df['3*chill'] = three\n",
    "    df['4*chill'] = four\n",
    "    df['5*chill'] = five\n",
    "    df['6*chill']  = six\n",
    "    df['7*chill'] = seven\n",
    "    df['8*chill'] = eight\n",
    "    df['9*chill'] = nine\n",
    "    df['10*chill'] = ten\n",
    "    df['11*chill'] = el\n",
    "    df['12*chill'] = tw\n",
    "    df['pop*chill'] = overall\n",
    "    \n",
    "    return  df "
   ]
  },
  {
   "cell_type": "code",
   "execution_count": 72,
   "metadata": {},
   "outputs": [],
   "source": [
    "data2 = make_int(data)"
   ]
  },
  {
   "cell_type": "code",
   "execution_count": 73,
   "metadata": {},
   "outputs": [
    {
     "data": {
      "text/plain": [
       "Index(['Unnamed: 0', 'Population', 'YearCollected', 'DayCollected',\n",
       "       'ChillingTime', 'Germinated', '1*cill', '2*chill', '3*chill', '4*chill',\n",
       "       '5*chill', '6*chill', '7*chill', '8*chill', '9*chill', '10*chill',\n",
       "       '11*chill', '12*chill', 'pop*chill'],\n",
       "      dtype='object')"
      ]
     },
     "execution_count": 73,
     "metadata": {},
     "output_type": "execute_result"
    }
   ],
   "source": [
    "data2.columns"
   ]
  },
  {
   "cell_type": "code",
   "execution_count": 30,
   "metadata": {},
   "outputs": [
    {
     "name": "stdout",
     "output_type": "stream",
     "text": [
      "   df_resid         ssr  df_diff     ss_diff          F         Pr(>F)\n",
      "0    2519.0  543.476160      0.0         NaN        NaN            NaN\n",
      "1    2508.0  432.809158     11.0  110.667002  58.298389  1.327511e-115\n"
     ]
    }
   ],
   "source": [
    "popd = pd.get_dummies(data.Population)\n",
    "data2 = data2.drop(columns = ['Unnamed: 0', 'Population'],\n",
    "                  axis = 1)\n",
    "\n",
    "import statsmodels.api as sm\n",
    "from statsmodels.formula.api import ols\n",
    "from statsmodels.stats.anova import anova_lm\n",
    "\n",
    "X3 = data2[['ChillingTime',\n",
    "            '1*cill', '2*chill', '3*chill', \n",
    "            '4*chill','5*chill', '6*chill', '7*chill', \n",
    "            '8*chill', '9*chill', '10*chill','11*chill', \n",
    "            '12*chill' \n",
    "           ]]\n",
    "m = data.ChillingTime\n",
    "y = data.Germinated\n",
    "reg_obj1 = sm.OLS(y ,m)\n",
    "reg_obj2 = sm.OLS(y, X3)\n",
    "\n",
    "results1 = reg_obj1.fit()\n",
    "results2 = reg_obj2.fit()\n",
    "\n",
    "anovaResults = anova_lm(results1, results2)\n",
    "print(anovaResults)"
   ]
  },
  {
   "cell_type": "code",
   "execution_count": 31,
   "metadata": {},
   "outputs": [
    {
     "data": {
      "text/plain": [
       "0       0\n",
       "1       0\n",
       "2       0\n",
       "3       0\n",
       "4       0\n",
       "       ..\n",
       "2515    1\n",
       "2516    1\n",
       "2517    1\n",
       "2518    1\n",
       "2519    0\n",
       "Name: Germinated, Length: 2520, dtype: int64"
      ]
     },
     "execution_count": 31,
     "metadata": {},
     "output_type": "execute_result"
    }
   ],
   "source": [
    "data.Germinated"
   ]
  },
  {
   "cell_type": "code",
   "execution_count": 32,
   "metadata": {},
   "outputs": [
    {
     "data": {
      "text/plain": [
       "Germinated\n",
       "0    0.561508\n",
       "1    0.438492\n",
       "dtype: float64"
      ]
     },
     "execution_count": 32,
     "metadata": {},
     "output_type": "execute_result"
    }
   ],
   "source": [
    "germ_prob = data.groupby('Germinated').size().div(len(data))\n",
    "germ_prob"
   ]
  },
  {
   "cell_type": "code",
   "execution_count": 43,
   "metadata": {},
   "outputs": [],
   "source": [
    "prob_germ = data.groupby(['Population', 'ChillingTime', 'Germinated']).size().div(\n",
    "    len(data)).div(germ_prob, axis=0, level='Germinated')\n"
   ]
  },
  {
   "cell_type": "code",
   "execution_count": 101,
   "metadata": {},
   "outputs": [
    {
     "data": {
      "text/plain": [
       "Population  ChillingTime  Germinated\n",
       "1           0             0             0.012721\n",
       "                          1             0.010860\n",
       "            2             0             0.000707\n",
       "                          1             0.026244\n",
       "            4             0             0.003534\n",
       "                          1             0.022624\n",
       "            6             0             0.002827\n",
       "                          1             0.023529\n",
       "            8             0             0.002827\n",
       "                          1             0.023529\n",
       "            10            0             0.000707\n",
       "                          1             0.026244\n",
       "            12            0             0.002120\n",
       "                          1             0.024434\n",
       "2           0             0             0.018375\n",
       "                          1             0.003620\n",
       "            2             0             0.009894\n",
       "                          1             0.014480\n",
       "            4             0             0.005654\n",
       "                          1             0.019910\n",
       "            6             0             0.005654\n",
       "                          1             0.019910\n",
       "            8             0             0.003534\n",
       "                          1             0.022624\n",
       "            10            0             0.002120\n",
       "                          1             0.024434\n",
       "            12            0             0.003534\n",
       "                          1             0.022624\n",
       "3           0             0             0.021201\n",
       "            2             0             0.009894\n",
       "                          1             0.014480\n",
       "            4             0             0.004240\n",
       "                          1             0.021719\n",
       "            6             0             0.003534\n",
       "                          1             0.022624\n",
       "            8             0             0.000707\n",
       "                          1             0.026244\n",
       "            10            0             0.002120\n",
       "                          1             0.024434\n",
       "            12            0             0.002827\n",
       "                          1             0.023529\n",
       "4           0             0             0.021201\n",
       "            2             0             0.017668\n",
       "                          1             0.004525\n",
       "            4             0             0.009894\n",
       "                          1             0.014480\n",
       "            6             0             0.008481\n",
       "                          1             0.016290\n",
       "            8             0             0.005654\n",
       "                          1             0.019910\n",
       "dtype: float64"
      ]
     },
     "execution_count": 101,
     "metadata": {},
     "output_type": "execute_result"
    }
   ],
   "source": [
    "prob_germ[:50]"
   ]
  },
  {
   "cell_type": "code",
   "execution_count": 56,
   "metadata": {},
   "outputs": [],
   "source": [
    "#prob_germ[50:100]"
   ]
  },
  {
   "cell_type": "code",
   "execution_count": 45,
   "metadata": {},
   "outputs": [
    {
     "data": {
      "text/plain": [
       "0.18290700000000001"
      ]
     },
     "execution_count": 45,
     "metadata": {},
     "output_type": "execute_result"
    }
   ],
   "source": [
    "0.012721+0.010860+0.000707+0.026244+0.003534+0.022624+0.002827+0.023529+0.002827+0.023529+0.000707+0.026244+0.002120+0.024434"
   ]
  },
  {
   "cell_type": "code",
   "execution_count": 294,
   "metadata": {},
   "outputs": [],
   "source": [
    "tab = pd.crosstab(data.Population, data.Germinated,\n",
    "            margins=True, normalize=\"index\")"
   ]
  },
  {
   "cell_type": "code",
   "execution_count": 316,
   "metadata": {},
   "outputs": [],
   "source": [
    "vals = m5.ChillingTime.to_list()\n",
    "vals.append(np.mean(m5.ChillingTime))\n",
    "tab['chillingtime'] = vals"
   ]
  },
  {
   "cell_type": "code",
   "execution_count": 317,
   "metadata": {},
   "outputs": [
    {
     "data": {
      "text/html": [
       "<div>\n",
       "<style scoped>\n",
       "    .dataframe tbody tr th:only-of-type {\n",
       "        vertical-align: middle;\n",
       "    }\n",
       "\n",
       "    .dataframe tbody tr th {\n",
       "        vertical-align: top;\n",
       "    }\n",
       "\n",
       "    .dataframe thead th {\n",
       "        text-align: right;\n",
       "    }\n",
       "</style>\n",
       "<table border=\"1\" class=\"dataframe\">\n",
       "  <thead>\n",
       "    <tr style=\"text-align: right;\">\n",
       "      <th>Germinated</th>\n",
       "      <th>0</th>\n",
       "      <th>1</th>\n",
       "      <th>chillingtime</th>\n",
       "    </tr>\n",
       "    <tr>\n",
       "      <th>Population</th>\n",
       "      <th></th>\n",
       "      <th></th>\n",
       "      <th></th>\n",
       "    </tr>\n",
       "  </thead>\n",
       "  <tbody>\n",
       "    <tr>\n",
       "      <th>1</th>\n",
       "      <td>0.171429</td>\n",
       "      <td>0.828571</td>\n",
       "      <td>6.528736</td>\n",
       "    </tr>\n",
       "    <tr>\n",
       "      <th>2</th>\n",
       "      <td>0.328571</td>\n",
       "      <td>0.671429</td>\n",
       "      <td>7.248227</td>\n",
       "    </tr>\n",
       "    <tr>\n",
       "      <th>3</th>\n",
       "      <td>0.300000</td>\n",
       "      <td>0.700000</td>\n",
       "      <td>7.428571</td>\n",
       "    </tr>\n",
       "    <tr>\n",
       "      <th>4</th>\n",
       "      <td>0.476190</td>\n",
       "      <td>0.523810</td>\n",
       "      <td>8.109091</td>\n",
       "    </tr>\n",
       "    <tr>\n",
       "      <th>5</th>\n",
       "      <td>0.376190</td>\n",
       "      <td>0.623810</td>\n",
       "      <td>5.969466</td>\n",
       "    </tr>\n",
       "    <tr>\n",
       "      <th>6</th>\n",
       "      <td>0.657143</td>\n",
       "      <td>0.342857</td>\n",
       "      <td>9.250000</td>\n",
       "    </tr>\n",
       "    <tr>\n",
       "      <th>7</th>\n",
       "      <td>0.657143</td>\n",
       "      <td>0.342857</td>\n",
       "      <td>9.361111</td>\n",
       "    </tr>\n",
       "    <tr>\n",
       "      <th>8</th>\n",
       "      <td>0.776190</td>\n",
       "      <td>0.223810</td>\n",
       "      <td>7.914894</td>\n",
       "    </tr>\n",
       "    <tr>\n",
       "      <th>9</th>\n",
       "      <td>0.819048</td>\n",
       "      <td>0.180952</td>\n",
       "      <td>10.842105</td>\n",
       "    </tr>\n",
       "    <tr>\n",
       "      <th>10</th>\n",
       "      <td>0.519048</td>\n",
       "      <td>0.480952</td>\n",
       "      <td>8.772277</td>\n",
       "    </tr>\n",
       "    <tr>\n",
       "      <th>11</th>\n",
       "      <td>0.657143</td>\n",
       "      <td>0.342857</td>\n",
       "      <td>8.944444</td>\n",
       "    </tr>\n",
       "    <tr>\n",
       "      <th>12</th>\n",
       "      <td>1.000000</td>\n",
       "      <td>0.000000</td>\n",
       "      <td>0.000000</td>\n",
       "    </tr>\n",
       "    <tr>\n",
       "      <th>All</th>\n",
       "      <td>0.561508</td>\n",
       "      <td>0.438492</td>\n",
       "      <td>7.530744</td>\n",
       "    </tr>\n",
       "  </tbody>\n",
       "</table>\n",
       "</div>"
      ],
      "text/plain": [
       "Germinated         0         1  chillingtime\n",
       "Population                                  \n",
       "1           0.171429  0.828571      6.528736\n",
       "2           0.328571  0.671429      7.248227\n",
       "3           0.300000  0.700000      7.428571\n",
       "4           0.476190  0.523810      8.109091\n",
       "5           0.376190  0.623810      5.969466\n",
       "6           0.657143  0.342857      9.250000\n",
       "7           0.657143  0.342857      9.361111\n",
       "8           0.776190  0.223810      7.914894\n",
       "9           0.819048  0.180952     10.842105\n",
       "10          0.519048  0.480952      8.772277\n",
       "11          0.657143  0.342857      8.944444\n",
       "12          1.000000  0.000000      0.000000\n",
       "All         0.561508  0.438492      7.530744"
      ]
     },
     "execution_count": 317,
     "metadata": {},
     "output_type": "execute_result"
    }
   ],
   "source": [
    "tab"
   ]
  },
  {
   "cell_type": "code",
   "execution_count": 94,
   "metadata": {},
   "outputs": [
    {
     "data": {
      "text/plain": [
       "pop*chill  Germinated\n",
       "1*chill    1             0.828571\n",
       "           0             0.171429\n",
       "10*chill   0             0.519048\n",
       "           1             0.480952\n",
       "11*chill   0             0.657143\n",
       "           1             0.342857\n",
       "12*chill   0             1.000000\n",
       "2*chill    1             0.671429\n",
       "           0             0.328571\n",
       "3*chill    1             0.700000\n",
       "           0             0.300000\n",
       "4*chill    1             0.523810\n",
       "           0             0.476190\n",
       "5*chill    1             0.623810\n",
       "           0             0.376190\n",
       "6*chill    0             0.657143\n",
       "           1             0.342857\n",
       "7*chill    0             0.657143\n",
       "           1             0.342857\n",
       "8*chill    0             0.776190\n",
       "           1             0.223810\n",
       "9*chill    0             0.819048\n",
       "           1             0.180952\n",
       "Name: Germinated, dtype: float64"
      ]
     },
     "execution_count": 94,
     "metadata": {},
     "output_type": "execute_result"
    }
   ],
   "source": [
    "data2.groupby('pop*chill')['Germinated'].value_counts() / data.groupby('pop*chill')['Germinated'].count()\n"
   ]
  },
  {
   "cell_type": "code",
   "execution_count": 106,
   "metadata": {},
   "outputs": [],
   "source": [
    "cond_probs = data.groupby(['Population', 'ChillingTime'])['Germinated'].value_counts(normalize=True)"
   ]
  },
  {
   "cell_type": "code",
   "execution_count": 111,
   "metadata": {},
   "outputs": [],
   "source": [
    "cond_probs = pd.DataFrame(cond_probs).rename(columns = {'Germinated':\"Probabilities\"})\n",
    "cond_probs = cond_probs.reset_index()"
   ]
  },
  {
   "cell_type": "code",
   "execution_count": 329,
   "metadata": {},
   "outputs": [
    {
     "data": {
      "text/html": [
       "<div>\n",
       "<style scoped>\n",
       "    .dataframe tbody tr th:only-of-type {\n",
       "        vertical-align: middle;\n",
       "    }\n",
       "\n",
       "    .dataframe tbody tr th {\n",
       "        vertical-align: top;\n",
       "    }\n",
       "\n",
       "    .dataframe thead th {\n",
       "        text-align: right;\n",
       "    }\n",
       "</style>\n",
       "<table border=\"1\" class=\"dataframe\">\n",
       "  <thead>\n",
       "    <tr style=\"text-align: right;\">\n",
       "      <th></th>\n",
       "      <th>Population</th>\n",
       "      <th>ChillingTime</th>\n",
       "      <th>Germinated</th>\n",
       "      <th>Probabilities</th>\n",
       "    </tr>\n",
       "  </thead>\n",
       "  <tbody>\n",
       "    <tr>\n",
       "      <th>81</th>\n",
       "      <td>7</td>\n",
       "      <td>0</td>\n",
       "      <td>0</td>\n",
       "      <td>1.000000</td>\n",
       "    </tr>\n",
       "    <tr>\n",
       "      <th>82</th>\n",
       "      <td>7</td>\n",
       "      <td>2</td>\n",
       "      <td>0</td>\n",
       "      <td>1.000000</td>\n",
       "    </tr>\n",
       "    <tr>\n",
       "      <th>83</th>\n",
       "      <td>7</td>\n",
       "      <td>4</td>\n",
       "      <td>0</td>\n",
       "      <td>0.900000</td>\n",
       "    </tr>\n",
       "    <tr>\n",
       "      <th>84</th>\n",
       "      <td>7</td>\n",
       "      <td>4</td>\n",
       "      <td>1</td>\n",
       "      <td>0.100000</td>\n",
       "    </tr>\n",
       "    <tr>\n",
       "      <th>85</th>\n",
       "      <td>7</td>\n",
       "      <td>6</td>\n",
       "      <td>0</td>\n",
       "      <td>0.666667</td>\n",
       "    </tr>\n",
       "    <tr>\n",
       "      <th>86</th>\n",
       "      <td>7</td>\n",
       "      <td>6</td>\n",
       "      <td>1</td>\n",
       "      <td>0.333333</td>\n",
       "    </tr>\n",
       "    <tr>\n",
       "      <th>87</th>\n",
       "      <td>7</td>\n",
       "      <td>8</td>\n",
       "      <td>0</td>\n",
       "      <td>0.533333</td>\n",
       "    </tr>\n",
       "    <tr>\n",
       "      <th>88</th>\n",
       "      <td>7</td>\n",
       "      <td>8</td>\n",
       "      <td>1</td>\n",
       "      <td>0.466667</td>\n",
       "    </tr>\n",
       "    <tr>\n",
       "      <th>89</th>\n",
       "      <td>7</td>\n",
       "      <td>10</td>\n",
       "      <td>1</td>\n",
       "      <td>0.833333</td>\n",
       "    </tr>\n",
       "    <tr>\n",
       "      <th>90</th>\n",
       "      <td>7</td>\n",
       "      <td>10</td>\n",
       "      <td>0</td>\n",
       "      <td>0.166667</td>\n",
       "    </tr>\n",
       "    <tr>\n",
       "      <th>91</th>\n",
       "      <td>7</td>\n",
       "      <td>12</td>\n",
       "      <td>1</td>\n",
       "      <td>0.666667</td>\n",
       "    </tr>\n",
       "    <tr>\n",
       "      <th>92</th>\n",
       "      <td>7</td>\n",
       "      <td>12</td>\n",
       "      <td>0</td>\n",
       "      <td>0.333333</td>\n",
       "    </tr>\n",
       "  </tbody>\n",
       "</table>\n",
       "</div>"
      ],
      "text/plain": [
       "    Population  ChillingTime  Germinated  Probabilities\n",
       "81           7             0           0       1.000000\n",
       "82           7             2           0       1.000000\n",
       "83           7             4           0       0.900000\n",
       "84           7             4           1       0.100000\n",
       "85           7             6           0       0.666667\n",
       "86           7             6           1       0.333333\n",
       "87           7             8           0       0.533333\n",
       "88           7             8           1       0.466667\n",
       "89           7            10           1       0.833333\n",
       "90           7            10           0       0.166667\n",
       "91           7            12           1       0.666667\n",
       "92           7            12           0       0.333333"
      ]
     },
     "execution_count": 329,
     "metadata": {},
     "output_type": "execute_result"
    }
   ],
   "source": [
    "cond_probs[81:93]"
   ]
  },
  {
   "cell_type": "code",
   "execution_count": 341,
   "metadata": {},
   "outputs": [],
   "source": [
    "g2 = cond_probs.loc[cond_probs.Germinated == 1]\n",
    "g2 = g2.loc[g2.Probabilities >= .8]"
   ]
  },
  {
   "cell_type": "code",
   "execution_count": 343,
   "metadata": {},
   "outputs": [],
   "source": [
    "g2\n",
    "g3 = g2.loc[g2.ChillingTime >= 8]"
   ]
  },
  {
   "cell_type": "code",
   "execution_count": 344,
   "metadata": {},
   "outputs": [
    {
     "data": {
      "text/html": [
       "<div>\n",
       "<style scoped>\n",
       "    .dataframe tbody tr th:only-of-type {\n",
       "        vertical-align: middle;\n",
       "    }\n",
       "\n",
       "    .dataframe tbody tr th {\n",
       "        vertical-align: top;\n",
       "    }\n",
       "\n",
       "    .dataframe thead th {\n",
       "        text-align: right;\n",
       "    }\n",
       "</style>\n",
       "<table border=\"1\" class=\"dataframe\">\n",
       "  <thead>\n",
       "    <tr style=\"text-align: right;\">\n",
       "      <th></th>\n",
       "      <th>Population</th>\n",
       "      <th>ChillingTime</th>\n",
       "      <th>Germinated</th>\n",
       "      <th>Probabilities</th>\n",
       "    </tr>\n",
       "  </thead>\n",
       "  <tbody>\n",
       "    <tr>\n",
       "      <th>8</th>\n",
       "      <td>1</td>\n",
       "      <td>8</td>\n",
       "      <td>1</td>\n",
       "      <td>0.866667</td>\n",
       "    </tr>\n",
       "    <tr>\n",
       "      <th>10</th>\n",
       "      <td>1</td>\n",
       "      <td>10</td>\n",
       "      <td>1</td>\n",
       "      <td>0.966667</td>\n",
       "    </tr>\n",
       "    <tr>\n",
       "      <th>12</th>\n",
       "      <td>1</td>\n",
       "      <td>12</td>\n",
       "      <td>1</td>\n",
       "      <td>0.900000</td>\n",
       "    </tr>\n",
       "    <tr>\n",
       "      <th>22</th>\n",
       "      <td>2</td>\n",
       "      <td>8</td>\n",
       "      <td>1</td>\n",
       "      <td>0.833333</td>\n",
       "    </tr>\n",
       "    <tr>\n",
       "      <th>24</th>\n",
       "      <td>2</td>\n",
       "      <td>10</td>\n",
       "      <td>1</td>\n",
       "      <td>0.900000</td>\n",
       "    </tr>\n",
       "    <tr>\n",
       "      <th>26</th>\n",
       "      <td>2</td>\n",
       "      <td>12</td>\n",
       "      <td>1</td>\n",
       "      <td>0.833333</td>\n",
       "    </tr>\n",
       "    <tr>\n",
       "      <th>35</th>\n",
       "      <td>3</td>\n",
       "      <td>8</td>\n",
       "      <td>1</td>\n",
       "      <td>0.966667</td>\n",
       "    </tr>\n",
       "    <tr>\n",
       "      <th>37</th>\n",
       "      <td>3</td>\n",
       "      <td>10</td>\n",
       "      <td>1</td>\n",
       "      <td>0.900000</td>\n",
       "    </tr>\n",
       "    <tr>\n",
       "      <th>39</th>\n",
       "      <td>3</td>\n",
       "      <td>12</td>\n",
       "      <td>1</td>\n",
       "      <td>0.866667</td>\n",
       "    </tr>\n",
       "    <tr>\n",
       "      <th>50</th>\n",
       "      <td>4</td>\n",
       "      <td>10</td>\n",
       "      <td>1</td>\n",
       "      <td>0.900000</td>\n",
       "    </tr>\n",
       "    <tr>\n",
       "      <th>77</th>\n",
       "      <td>6</td>\n",
       "      <td>10</td>\n",
       "      <td>1</td>\n",
       "      <td>0.800000</td>\n",
       "    </tr>\n",
       "    <tr>\n",
       "      <th>89</th>\n",
       "      <td>7</td>\n",
       "      <td>10</td>\n",
       "      <td>1</td>\n",
       "      <td>0.833333</td>\n",
       "    </tr>\n",
       "    <tr>\n",
       "      <th>123</th>\n",
       "      <td>10</td>\n",
       "      <td>8</td>\n",
       "      <td>1</td>\n",
       "      <td>0.866667</td>\n",
       "    </tr>\n",
       "    <tr>\n",
       "      <th>125</th>\n",
       "      <td>10</td>\n",
       "      <td>10</td>\n",
       "      <td>1</td>\n",
       "      <td>0.866667</td>\n",
       "    </tr>\n",
       "    <tr>\n",
       "      <th>127</th>\n",
       "      <td>10</td>\n",
       "      <td>12</td>\n",
       "      <td>1</td>\n",
       "      <td>0.833333</td>\n",
       "    </tr>\n",
       "    <tr>\n",
       "      <th>137</th>\n",
       "      <td>11</td>\n",
       "      <td>10</td>\n",
       "      <td>1</td>\n",
       "      <td>0.833333</td>\n",
       "    </tr>\n",
       "  </tbody>\n",
       "</table>\n",
       "</div>"
      ],
      "text/plain": [
       "     Population  ChillingTime  Germinated  Probabilities\n",
       "8             1             8           1       0.866667\n",
       "10            1            10           1       0.966667\n",
       "12            1            12           1       0.900000\n",
       "22            2             8           1       0.833333\n",
       "24            2            10           1       0.900000\n",
       "26            2            12           1       0.833333\n",
       "35            3             8           1       0.966667\n",
       "37            3            10           1       0.900000\n",
       "39            3            12           1       0.866667\n",
       "50            4            10           1       0.900000\n",
       "77            6            10           1       0.800000\n",
       "89            7            10           1       0.833333\n",
       "123          10             8           1       0.866667\n",
       "125          10            10           1       0.866667\n",
       "127          10            12           1       0.833333\n",
       "137          11            10           1       0.833333"
      ]
     },
     "execution_count": 344,
     "metadata": {},
     "output_type": "execute_result"
    }
   ],
   "source": [
    "g3"
   ]
  },
  {
   "cell_type": "code",
   "execution_count": 339,
   "metadata": {},
   "outputs": [
    {
     "data": {
      "text/html": [
       "<div>\n",
       "<style scoped>\n",
       "    .dataframe tbody tr th:only-of-type {\n",
       "        vertical-align: middle;\n",
       "    }\n",
       "\n",
       "    .dataframe tbody tr th {\n",
       "        vertical-align: top;\n",
       "    }\n",
       "\n",
       "    .dataframe thead th {\n",
       "        text-align: right;\n",
       "    }\n",
       "</style>\n",
       "<table border=\"1\" class=\"dataframe\">\n",
       "  <thead>\n",
       "    <tr style=\"text-align: right;\">\n",
       "      <th></th>\n",
       "      <th>ChillingTime</th>\n",
       "      <th>6*chill</th>\n",
       "      <th>7*chill</th>\n",
       "    </tr>\n",
       "  </thead>\n",
       "  <tbody>\n",
       "    <tr>\n",
       "      <th>40</th>\n",
       "      <td>0</td>\n",
       "      <td>0</td>\n",
       "      <td>0</td>\n",
       "    </tr>\n",
       "    <tr>\n",
       "      <th>41</th>\n",
       "      <td>0</td>\n",
       "      <td>0</td>\n",
       "      <td>0</td>\n",
       "    </tr>\n",
       "    <tr>\n",
       "      <th>42</th>\n",
       "      <td>0</td>\n",
       "      <td>0</td>\n",
       "      <td>0</td>\n",
       "    </tr>\n",
       "    <tr>\n",
       "      <th>43</th>\n",
       "      <td>0</td>\n",
       "      <td>0</td>\n",
       "      <td>0</td>\n",
       "    </tr>\n",
       "    <tr>\n",
       "      <th>44</th>\n",
       "      <td>0</td>\n",
       "      <td>0</td>\n",
       "      <td>0</td>\n",
       "    </tr>\n",
       "    <tr>\n",
       "      <th>...</th>\n",
       "      <td>...</td>\n",
       "      <td>...</td>\n",
       "      <td>...</td>\n",
       "    </tr>\n",
       "    <tr>\n",
       "      <th>2485</th>\n",
       "      <td>12</td>\n",
       "      <td>0</td>\n",
       "      <td>12</td>\n",
       "    </tr>\n",
       "    <tr>\n",
       "      <th>2486</th>\n",
       "      <td>12</td>\n",
       "      <td>0</td>\n",
       "      <td>12</td>\n",
       "    </tr>\n",
       "    <tr>\n",
       "      <th>2487</th>\n",
       "      <td>12</td>\n",
       "      <td>0</td>\n",
       "      <td>12</td>\n",
       "    </tr>\n",
       "    <tr>\n",
       "      <th>2488</th>\n",
       "      <td>12</td>\n",
       "      <td>0</td>\n",
       "      <td>12</td>\n",
       "    </tr>\n",
       "    <tr>\n",
       "      <th>2489</th>\n",
       "      <td>12</td>\n",
       "      <td>0</td>\n",
       "      <td>12</td>\n",
       "    </tr>\n",
       "  </tbody>\n",
       "</table>\n",
       "<p>420 rows × 3 columns</p>\n",
       "</div>"
      ],
      "text/plain": [
       "      ChillingTime  6*chill  7*chill\n",
       "40               0        0        0\n",
       "41               0        0        0\n",
       "42               0        0        0\n",
       "43               0        0        0\n",
       "44               0        0        0\n",
       "...            ...      ...      ...\n",
       "2485            12        0       12\n",
       "2486            12        0       12\n",
       "2487            12        0       12\n",
       "2488            12        0       12\n",
       "2489            12        0       12\n",
       "\n",
       "[420 rows x 3 columns]"
      ]
     },
     "execution_count": 339,
     "metadata": {},
     "output_type": "execute_result"
    }
   ],
   "source": [
    "sec = data2.loc[data2.Population ==6]\n",
    "third = data2.loc[data2.Population ==7]\n",
    "\n",
    "X2_3 = pd.concat([sec, third], axis = 0)\n",
    "\n",
    "X23 = X2_3[['ChillingTime',\n",
    "            '6*chill', '7*chill', \n",
    "           ]]\n",
    "\n",
    "X23"
   ]
  },
  {
   "cell_type": "code",
   "execution_count": 340,
   "metadata": {},
   "outputs": [
    {
     "name": "stdout",
     "output_type": "stream",
     "text": [
      "   df_resid        ssr  df_diff  ss_diff         F   Pr(>F)\n",
      "0     419.0  61.783883      0.0      NaN       NaN      NaN\n",
      "1     418.0  61.780952      1.0  0.00293  0.019827  0.88809\n"
     ]
    }
   ],
   "source": [
    "m = X23.ChillingTime\n",
    "y = X2_3.Germinated\n",
    "reg_obj1 = sm.OLS(y ,m)\n",
    "reg_obj2 = sm.OLS(y, X23)\n",
    "\n",
    "results1 = reg_obj1.fit()\n",
    "results2 = reg_obj2.fit()\n",
    "\n",
    "anovaResults = anova_lm(results1, results2)\n",
    "print(anovaResults)"
   ]
  },
  {
   "cell_type": "code",
   "execution_count": 125,
   "metadata": {},
   "outputs": [
    {
     "data": {
      "text/plain": [
       "25.5"
      ]
     },
     "execution_count": 125,
     "metadata": {},
     "output_type": "execute_result"
    }
   ],
   "source": [
    ".85*30"
   ]
  },
  {
   "cell_type": "code",
   "execution_count": 129,
   "metadata": {},
   "outputs": [],
   "source": [
    "data3 = data[[\"Population\", \"YearCollected\", \"DayCollected\",\n",
    "             'ChillingTime', \"Germinated\"]]"
   ]
  },
  {
   "cell_type": "code",
   "execution_count": 132,
   "metadata": {},
   "outputs": [
    {
     "data": {
      "text/html": [
       "<div>\n",
       "<style scoped>\n",
       "    .dataframe tbody tr th:only-of-type {\n",
       "        vertical-align: middle;\n",
       "    }\n",
       "\n",
       "    .dataframe tbody tr th {\n",
       "        vertical-align: top;\n",
       "    }\n",
       "\n",
       "    .dataframe thead th {\n",
       "        text-align: right;\n",
       "    }\n",
       "</style>\n",
       "<table border=\"1\" class=\"dataframe\">\n",
       "  <thead>\n",
       "    <tr style=\"text-align: right;\">\n",
       "      <th></th>\n",
       "      <th>Population</th>\n",
       "      <th>YearCollected</th>\n",
       "      <th>DayCollected</th>\n",
       "      <th>ChillingTime</th>\n",
       "      <th>Germinated</th>\n",
       "    </tr>\n",
       "  </thead>\n",
       "  <tbody>\n",
       "    <tr>\n",
       "      <th>2515</th>\n",
       "      <td>1</td>\n",
       "      <td>2015</td>\n",
       "      <td>138</td>\n",
       "      <td>12</td>\n",
       "      <td>1</td>\n",
       "    </tr>\n",
       "    <tr>\n",
       "      <th>2516</th>\n",
       "      <td>1</td>\n",
       "      <td>2015</td>\n",
       "      <td>138</td>\n",
       "      <td>12</td>\n",
       "      <td>1</td>\n",
       "    </tr>\n",
       "    <tr>\n",
       "      <th>2517</th>\n",
       "      <td>1</td>\n",
       "      <td>2015</td>\n",
       "      <td>138</td>\n",
       "      <td>12</td>\n",
       "      <td>1</td>\n",
       "    </tr>\n",
       "    <tr>\n",
       "      <th>2518</th>\n",
       "      <td>1</td>\n",
       "      <td>2015</td>\n",
       "      <td>138</td>\n",
       "      <td>12</td>\n",
       "      <td>1</td>\n",
       "    </tr>\n",
       "    <tr>\n",
       "      <th>2519</th>\n",
       "      <td>1</td>\n",
       "      <td>2015</td>\n",
       "      <td>138</td>\n",
       "      <td>12</td>\n",
       "      <td>0</td>\n",
       "    </tr>\n",
       "  </tbody>\n",
       "</table>\n",
       "</div>"
      ],
      "text/plain": [
       "      Population  YearCollected  DayCollected  ChillingTime  Germinated\n",
       "2515           1           2015           138            12           1\n",
       "2516           1           2015           138            12           1\n",
       "2517           1           2015           138            12           1\n",
       "2518           1           2015           138            12           1\n",
       "2519           1           2015           138            12           0"
      ]
     },
     "execution_count": 132,
     "metadata": {},
     "output_type": "execute_result"
    }
   ],
   "source": [
    "data3.tail()"
   ]
  },
  {
   "cell_type": "code",
   "execution_count": 134,
   "metadata": {},
   "outputs": [
    {
     "data": {
      "text/plain": [
       "0       36\n",
       "1       36\n",
       "2       36\n",
       "3       36\n",
       "4       36\n",
       "        ..\n",
       "2515    20\n",
       "2516    20\n",
       "2517    20\n",
       "2518    20\n",
       "2519    20\n",
       "Name: DayCollected, Length: 2520, dtype: int64"
      ]
     },
     "execution_count": 134,
     "metadata": {},
     "output_type": "execute_result"
    }
   ],
   "source": [
    "((data3.DayCollected//30)+1)*4"
   ]
  },
  {
   "cell_type": "code",
   "execution_count": 135,
   "metadata": {},
   "outputs": [
    {
     "data": {
      "text/plain": [
       "204    420\n",
       "267    210\n",
       "203    210\n",
       "191    210\n",
       "161    210\n",
       "230    210\n",
       "202    210\n",
       "198    210\n",
       "164    210\n",
       "162    210\n",
       "138    210\n",
       "Name: DayCollected, dtype: int64"
      ]
     },
     "execution_count": 135,
     "metadata": {},
     "output_type": "execute_result"
    }
   ],
   "source": [
    "data3.DayCollected.value_counts()"
   ]
  },
  {
   "cell_type": "code",
   "execution_count": 158,
   "metadata": {},
   "outputs": [
    {
     "data": {
      "text/plain": [
       "0       36\n",
       "1       36\n",
       "2       36\n",
       "3       36\n",
       "4       36\n",
       "        ..\n",
       "2515    20\n",
       "2516    20\n",
       "2517    20\n",
       "2518    20\n",
       "2519    20\n",
       "Name: DayCollected, Length: 2520, dtype: int64"
      ]
     },
     "execution_count": 158,
     "metadata": {},
     "output_type": "execute_result"
    }
   ],
   "source": [
    "((data3.DayCollected//30)+1)*4"
   ]
  },
  {
   "cell_type": "code",
   "execution_count": 157,
   "metadata": {},
   "outputs": [
    {
     "data": {
      "text/plain": [
       "0       38.142857\n",
       "1       38.142857\n",
       "2       38.142857\n",
       "3       38.142857\n",
       "4       38.142857\n",
       "          ...    \n",
       "2515    19.714286\n",
       "2516    19.714286\n",
       "2517    19.714286\n",
       "2518    19.714286\n",
       "2519    19.714286\n",
       "Name: DayCollected, Length: 2520, dtype: float64"
      ]
     },
     "execution_count": 157,
     "metadata": {},
     "output_type": "execute_result"
    }
   ],
   "source": [
    "data3.DayCollected/7"
   ]
  },
  {
   "cell_type": "code",
   "execution_count": 159,
   "metadata": {},
   "outputs": [
    {
     "name": "stderr",
     "output_type": "stream",
     "text": [
      "<ipython-input-159-984e95511dbc>:1: SettingWithCopyWarning: \n",
      "A value is trying to be set on a copy of a slice from a DataFrame.\n",
      "Try using .loc[row_indexer,col_indexer] = value instead\n",
      "\n",
      "See the caveats in the documentation: https://pandas.pydata.org/pandas-docs/stable/user_guide/indexing.html#returning-a-view-versus-a-copy\n",
      "  data3['week'] = data3.DayCollected/7\n"
     ]
    }
   ],
   "source": [
    "data3['week'] = data3.DayCollected/7"
   ]
  },
  {
   "cell_type": "code",
   "execution_count": 161,
   "metadata": {},
   "outputs": [
    {
     "data": {
      "text/html": [
       "<div>\n",
       "<style scoped>\n",
       "    .dataframe tbody tr th:only-of-type {\n",
       "        vertical-align: middle;\n",
       "    }\n",
       "\n",
       "    .dataframe tbody tr th {\n",
       "        vertical-align: top;\n",
       "    }\n",
       "\n",
       "    .dataframe thead th {\n",
       "        text-align: right;\n",
       "    }\n",
       "</style>\n",
       "<table border=\"1\" class=\"dataframe\">\n",
       "  <thead>\n",
       "    <tr style=\"text-align: right;\">\n",
       "      <th></th>\n",
       "      <th>Population</th>\n",
       "      <th>YearCollected</th>\n",
       "      <th>DayCollected</th>\n",
       "      <th>ChillingTime</th>\n",
       "      <th>Germinated</th>\n",
       "      <th>week</th>\n",
       "    </tr>\n",
       "  </thead>\n",
       "  <tbody>\n",
       "    <tr>\n",
       "      <th>0</th>\n",
       "      <td>12</td>\n",
       "      <td>2017</td>\n",
       "      <td>267</td>\n",
       "      <td>0</td>\n",
       "      <td>0</td>\n",
       "      <td>38.142857</td>\n",
       "    </tr>\n",
       "    <tr>\n",
       "      <th>1</th>\n",
       "      <td>12</td>\n",
       "      <td>2017</td>\n",
       "      <td>267</td>\n",
       "      <td>0</td>\n",
       "      <td>0</td>\n",
       "      <td>38.142857</td>\n",
       "    </tr>\n",
       "    <tr>\n",
       "      <th>2</th>\n",
       "      <td>12</td>\n",
       "      <td>2017</td>\n",
       "      <td>267</td>\n",
       "      <td>0</td>\n",
       "      <td>0</td>\n",
       "      <td>38.142857</td>\n",
       "    </tr>\n",
       "    <tr>\n",
       "      <th>3</th>\n",
       "      <td>12</td>\n",
       "      <td>2017</td>\n",
       "      <td>267</td>\n",
       "      <td>0</td>\n",
       "      <td>0</td>\n",
       "      <td>38.142857</td>\n",
       "    </tr>\n",
       "    <tr>\n",
       "      <th>4</th>\n",
       "      <td>12</td>\n",
       "      <td>2017</td>\n",
       "      <td>267</td>\n",
       "      <td>0</td>\n",
       "      <td>0</td>\n",
       "      <td>38.142857</td>\n",
       "    </tr>\n",
       "  </tbody>\n",
       "</table>\n",
       "</div>"
      ],
      "text/plain": [
       "   Population  YearCollected  DayCollected  ChillingTime  Germinated  \\\n",
       "0          12           2017           267             0           0   \n",
       "1          12           2017           267             0           0   \n",
       "2          12           2017           267             0           0   \n",
       "3          12           2017           267             0           0   \n",
       "4          12           2017           267             0           0   \n",
       "\n",
       "        week  \n",
       "0  38.142857  \n",
       "1  38.142857  \n",
       "2  38.142857  \n",
       "3  38.142857  \n",
       "4  38.142857  "
      ]
     },
     "execution_count": 161,
     "metadata": {},
     "output_type": "execute_result"
    }
   ],
   "source": [
    "import datetime\n",
    "\n",
    "data3.head()"
   ]
  },
  {
   "cell_type": "code",
   "execution_count": 164,
   "metadata": {},
   "outputs": [
    {
     "data": {
      "text/plain": [
       "array([2017, 2014, 2016, 2015, 2013])"
      ]
     },
     "execution_count": 164,
     "metadata": {},
     "output_type": "execute_result"
    }
   ],
   "source": [
    "data3.YearCollected.unique()"
   ]
  },
  {
   "cell_type": "code",
   "execution_count": 183,
   "metadata": {},
   "outputs": [],
   "source": [
    "pop_dum = pd.get_dummies(data3.Population)\n"
   ]
  },
  {
   "cell_type": "code",
   "execution_count": 184,
   "metadata": {},
   "outputs": [],
   "source": [
    "data4 = pd.concat([data3, pop_dum], axis = 1)"
   ]
  },
  {
   "cell_type": "code",
   "execution_count": 186,
   "metadata": {},
   "outputs": [
    {
     "data": {
      "text/plain": [
       "Index([   'Population', 'YearCollected',  'DayCollected',  'ChillingTime',\n",
       "          'Germinated',          'week',          'year',               1,\n",
       "                     2,               3,               4,               5,\n",
       "                     6,               7,               8,               9,\n",
       "                    10,              11,              12],\n",
       "      dtype='object')"
      ]
     },
     "execution_count": 186,
     "metadata": {},
     "output_type": "execute_result"
    }
   ],
   "source": [
    "data4.columns"
   ]
  },
  {
   "cell_type": "code",
   "execution_count": 205,
   "metadata": {},
   "outputs": [],
   "source": [
    "data5 = data4[['week', 'YearCollected', 'ChillingTime', 'Population',\n",
    "               1,2,3,4,5,6,7,8,9,10,11,12]]\n",
    "y = data4.Germinated"
   ]
  },
  {
   "cell_type": "code",
   "execution_count": 199,
   "metadata": {},
   "outputs": [
    {
     "name": "stdout",
     "output_type": "stream",
     "text": [
      "Warning: Maximum number of iterations has been exceeded.\n",
      "         Current function value: 0.450370\n",
      "         Iterations: 35\n",
      "                           Logit Regression Results                           \n",
      "==============================================================================\n",
      "Dep. Variable:             Germinated   No. Observations:                 2520\n",
      "Model:                          Logit   Df Residuals:                     2507\n",
      "Method:                           MLE   Df Model:                           12\n",
      "Date:                Wed, 21 Apr 2021   Pseudo R-squ.:                  0.3431\n",
      "Time:                        01:03:29   Log-Likelihood:                -1134.9\n",
      "converged:                      False   LL-Null:                       -1727.6\n",
      "Covariance Type:            nonrobust   LLR p-value:                2.453e-246\n",
      "=================================================================================\n",
      "                    coef    std err          z      P>|z|      [0.025      0.975]\n",
      "---------------------------------------------------------------------------------\n",
      "week             -1.2220   9.36e+04  -1.31e-05      1.000   -1.84e+05    1.84e+05\n",
      "YearCollected     0.0147    114.137      0.000      1.000    -223.690     223.719\n",
      "ChillingTime      0.3047      0.015     20.058      0.000       0.275       0.334\n",
      "1                -5.2609        nan        nan        nan         nan         nan\n",
      "2                 2.9370        nan        nan        nan         nan         nan\n",
      "3                -1.6490        nan        nan        nan         nan         nan\n",
      "4                -2.9932        nan        nan        nan         nan         nan\n",
      "5                -2.6184        nan        nan        nan         nan         nan\n",
      "6                 3.3563        nan        nan        nan         nan         nan\n",
      "7                 3.3563        nan        nan        nan         nan         nan\n",
      "8                 7.1863        nan        nan        nan         nan         nan\n",
      "9                 2.1069        nan        nan        nan         nan         nan\n",
      "10                3.0746        nan        nan        nan         nan         nan\n",
      "11                3.0071        nan        nan        nan         nan         nan\n",
      "12              -12.4821        nan        nan        nan         nan         nan\n",
      "=================================================================================\n"
     ]
    },
    {
     "name": "stderr",
     "output_type": "stream",
     "text": [
      "/Users/a13855/opt/anaconda3/lib/python3.8/site-packages/statsmodels/base/model.py:566: ConvergenceWarning: Maximum Likelihood optimization failed to converge. Check mle_retvals\n",
      "  warnings.warn(\"Maximum Likelihood optimization failed to \"\n"
     ]
    }
   ],
   "source": [
    "\n",
    "reg_obj = sm.Logit(y ,data5)\n",
    "\n",
    "results = reg_obj.fit()\n",
    "print(results.summary())"
   ]
  },
  {
   "cell_type": "code",
   "execution_count": 219,
   "metadata": {},
   "outputs": [],
   "source": [
    "from sklearn.linear_model import LogisticRegression\n",
    "from sklearn.model_selection import train_test_split\n",
    "\n",
    "X_train, X_test, y_train, y_test = train_test_split(data5, y, test_size=0.3, \n",
    "                                                    random_state = 42,\n",
    "                                                    stratify=data5.Population)\n",
    "\n",
    "X_train.drop(columns = ['Population'], inplace = True)\n",
    "X_test.drop(columns = ['Population'], inplace = True)\n",
    "\n",
    "\n",
    "\n",
    "solvers = ['newton-cg', 'lbfgs', 'liblinear']\n",
    "penalty = ['l2', 'l1', 'elasitcnet']\n",
    "c_values = [1000, 100, 10, 1.0, 0.1, 0.01]\n",
    "# define grid search\n",
    "grid = dict(solver=solvers,penalty=penalty,C=c_values)\n",
    "\n",
    "\n",
    "logreg = LogisticRegression()\n"
   ]
  },
  {
   "cell_type": "code",
   "execution_count": 218,
   "metadata": {},
   "outputs": [
    {
     "data": {
      "text/plain": [
       "{'solver': ['newton-cg', 'lbfgs', 'liblinear'],\n",
       " 'penalty': ['l2', 'l1', 'elasitcnet'],\n",
       " 'C': [1000, 100, 10, 1.0, 0.1, 0.01]}"
      ]
     },
     "execution_count": 218,
     "metadata": {},
     "output_type": "execute_result"
    }
   ],
   "source": []
  },
  {
   "cell_type": "code",
   "execution_count": 224,
   "metadata": {},
   "outputs": [],
   "source": [
    "from sklearn.model_selection import RandomizedSearchCV\n",
    "grid_search = RandomizedSearchCV(estimator=logreg, param_distributions= grid, n_jobs=-1, cv=3, \n",
    "                                 scoring='accuracy',error_score=0)\n",
    "grid_result = grid_search.fit(X_train, y_train)"
   ]
  },
  {
   "cell_type": "code",
   "execution_count": 225,
   "metadata": {},
   "outputs": [
    {
     "name": "stdout",
     "output_type": "stream",
     "text": [
      "Best: 0.789116 using {'solver': 'liblinear', 'penalty': 'l2', 'C': 0.1}\n"
     ]
    }
   ],
   "source": [
    "print(\"Best: %f using %s\" % (grid_result.best_score_, grid_result.best_params_))"
   ]
  },
  {
   "cell_type": "code",
   "execution_count": 248,
   "metadata": {},
   "outputs": [],
   "source": [
    "clf = LogisticRegression(n_jobs=-1, C=.1)"
   ]
  },
  {
   "cell_type": "code",
   "execution_count": 249,
   "metadata": {},
   "outputs": [
    {
     "data": {
      "text/plain": [
       "LogisticRegression(C=0.1, n_jobs=-1)"
      ]
     },
     "execution_count": 249,
     "metadata": {},
     "output_type": "execute_result"
    }
   ],
   "source": [
    "clf.fit(X_train, y_train)"
   ]
  },
  {
   "cell_type": "code",
   "execution_count": 255,
   "metadata": {},
   "outputs": [
    {
     "data": {
      "text/plain": [
       "['week',\n",
       " 'YearCollected',\n",
       " 'ChillingTime',\n",
       " 1,\n",
       " 2,\n",
       " 3,\n",
       " 4,\n",
       " 5,\n",
       " 6,\n",
       " 7,\n",
       " 8,\n",
       " 9,\n",
       " 10,\n",
       " 11,\n",
       " 12]"
      ]
     },
     "execution_count": 255,
     "metadata": {},
     "output_type": "execute_result"
    }
   ],
   "source": [
    "X_train.columns.tolist()"
   ]
  },
  {
   "cell_type": "code",
   "execution_count": 256,
   "metadata": {},
   "outputs": [
    {
     "data": {
      "text/plain": [
       "[(9, -0.8270935247210046),\n",
       " (4, -0.6010182033364623),\n",
       " (12, -0.36129123575406047),\n",
       " ('week', -0.3149416786854205),\n",
       " (5, -0.29070229926104),\n",
       " (1, -0.020319781992764036),\n",
       " (11, -0.0011085443408862079),\n",
       " ('YearCollected', 0.0031950044896068425),\n",
       " (6, 0.03843892514411445),\n",
       " (7, 0.199124257285629),\n",
       " (8, 0.20891088427435897),\n",
       " (3, 0.2431872998196667),\n",
       " ('ChillingTime', 0.3003424010271868),\n",
       " (10, 0.42173456663244174),\n",
       " (2, 0.991924998666467)]"
      ]
     },
     "execution_count": 256,
     "metadata": {},
     "output_type": "execute_result"
    }
   ],
   "source": [
    "sorted(list(zip(X_train.columns.tolist(), clf.coef_[0])), key=lambda x: x[1])"
   ]
  },
  {
   "cell_type": "code",
   "execution_count": 251,
   "metadata": {},
   "outputs": [
    {
     "name": "stdout",
     "output_type": "stream",
     "text": [
      "accuracy 0.798941798941799\n",
      "              precision    recall  f1-score   support\n",
      "\n",
      "           0       0.81      0.84      0.83       432\n",
      "           1       0.78      0.74      0.76       324\n",
      "\n",
      "    accuracy                           0.80       756\n",
      "   macro avg       0.80      0.79      0.79       756\n",
      "weighted avg       0.80      0.80      0.80       756\n",
      "\n"
     ]
    }
   ],
   "source": [
    "from sklearn.metrics import classification_report\n",
    "from sklearn.metrics import accuracy_score, confusion_matrix\n",
    "\n",
    "\n",
    "y_pred = clf.predict(X_test)\n",
    "\n",
    "print('accuracy %s' % accuracy_score(y_pred, y_test))\n",
    "print(classification_report(y_test, y_pred,))"
   ]
  },
  {
   "cell_type": "code",
   "execution_count": 258,
   "metadata": {},
   "outputs": [
    {
     "data": {
      "text/plain": [
       "1.3503210797549925"
      ]
     },
     "execution_count": 258,
     "metadata": {},
     "output_type": "execute_result"
    }
   ],
   "source": [
    "np.exp(0.3003424010271868)"
   ]
  },
  {
   "cell_type": "markdown",
   "metadata": {},
   "source": [
    "### ok so from reversing the linear transform that we do to create the logistic regression in the first place -- we get that the \"inturpretagble\" coefficient on ChillingTime which was .30, when we raise that to the e we bet 1.35 --> . So for for every week that we shorten the chillng period for the blossoms, we decrease their probability of germinating by 1.35% "
   ]
  },
  {
   "cell_type": "code",
   "execution_count": 349,
   "metadata": {},
   "outputs": [
    {
     "data": {
      "image/png": "[encoded data removed]",
      "text/plain": [
       "<Figure size 576x432 with 2 Axes>"
      ]
     },
     "metadata": {
      "needs_background": "light"
     },
     "output_type": "display_data"
    },
    {
     "name": "stdout",
     "output_type": "stream",
     "text": [
      "[[364  84]\n",
      " [ 68 240]]\n"
     ]
    }
   ],
   "source": [
    "from sklearn.metrics import confusion_matrix\n",
    "\n",
    "from sklearn.metrics import confusion_matrix\n",
    "import seaborn as sns \n",
    "def plot_confusion_matrix(y_true, y_pred):\n",
    "    cm = confusion_matrix(y_true, y_pred)\n",
    "    f, ax = plt.subplots(figsize=(8, 6))\n",
    "    sns.heatmap(cm, annot=True)\n",
    "    plt.title('Confusion Matrix', fontsize=15)\n",
    "    plt.ylabel('True label', fontsize=12)\n",
    "    plt.xlabel('Predicted label', fontsize=12)\n",
    "    plt.xticks([0, 1],\n",
    "           ['Not fraud ','fraud'])\n",
    "    plt.yticks([0, 1],\n",
    "           ['not fraud','fraud'], rotation = 0)\n",
    "    \n",
    "plot_confusion_matrix(y_test, y_pred)\n",
    "plt.title(\"Random Forest Confusion Matrix\", fontsize = 15)\n",
    "plt.show()\n",
    "\n",
    "\n",
    "\n",
    "\n",
    "confusion_matrix = confusion_matrix(y_pred, y_test)\n",
    "print(confusion_matrix)"
   ]
  },
  {
   "cell_type": "code",
   "execution_count": 351,
   "metadata": {},
   "outputs": [
    {
     "data": {
      "text/plain": [
       "0.0446683592150963"
      ]
     },
     "execution_count": 351,
     "metadata": {},
     "output_type": "execute_result"
    }
   ],
   "source": [
    "10**(-1.35)"
   ]
  },
  {
   "cell_type": "code",
   "execution_count": 352,
   "metadata": {},
   "outputs": [
    {
     "data": {
      "text/plain": [
       "0.5745262174544066"
      ]
     },
     "execution_count": 352,
     "metadata": {},
     "output_type": "execute_result"
    }
   ],
   "source": [
    "np.exp(0.3003424010271868) / ( 1 + np.exp(0.3003424010271868) )"
   ]
  },
  {
   "cell_type": "code",
   "execution_count": 353,
   "metadata": {},
   "outputs": [
    {
     "data": {
      "text/plain": [
       "Index(['Unnamed: 0', 'Population', 'YearCollected', 'DayCollected',\n",
       "       'ChillingTime', 'Germinated', '1*cill', '2*chill', '3*chill', '4*chill',\n",
       "       '5*chill', '6*chill', '7*chill', '8*chill', '9*chill', '10*chill',\n",
       "       '11*chill', '12*chill', 'pop*chill'],\n",
       "      dtype='object')"
      ]
     },
     "execution_count": 353,
     "metadata": {},
     "output_type": "execute_result"
    }
   ],
   "source": [
    "X2_3.columns"
   ]
  },
  {
   "cell_type": "code",
   "execution_count": 355,
   "metadata": {},
   "outputs": [
    {
     "data": {
      "text/plain": [
       "<matplotlib.collections.PathCollection at 0x129002160>"
      ]
     },
     "execution_count": 355,
     "metadata": {},
     "output_type": "execute_result"
    },
    {
     "data": {
      "image/png": "[encoded data removed]",
      "text/plain": [
       "<Figure size 432x288 with 1 Axes>"
      ]
     },
     "metadata": {
      "needs_background": "light"
     },
     "output_type": "display_data"
    }
   ],
   "source": []
  },
  {
   "cell_type": "code",
   "execution_count": null,
   "metadata": {},
   "outputs": [],
   "source": []
  }
 ],
 "metadata": {
  "kernelspec": {
   "display_name": "Python 3",
   "language": "python",
   "name": "python3"
  },
  "language_info": {
   "codemirror_mode": {
    "name": "ipython",
    "version": 3
   },
   "file_extension": ".py",
   "mimetype": "text/x-python",
   "name": "python",
   "nbconvert_exporter": "python",
   "pygments_lexer": "ipython3",
   "version": "3.8.2"
  }
 },
 "nbformat": 4,
 "nbformat_minor": 4
}
